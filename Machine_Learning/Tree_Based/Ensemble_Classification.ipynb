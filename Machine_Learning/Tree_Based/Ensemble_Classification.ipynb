{
 "cells": [
  {
   "cell_type": "code",
   "execution_count": 2,
   "metadata": {},
   "outputs": [],
   "source": [
    "import numpy as np\n",
    "import pandas as pd \n",
    "import seaborn as sns \n",
    "import matplotlib.pyplot as plt\n",
    "from sklearn.metrics import mean_squared_error,r2_score,confusion_matrix,accuracy_score,classification_report,roc_auc_score,roc_curve\n",
    "from sklearn.model_selection import train_test_split,GridSearchCV,cross_val_score\n",
    "from sklearn.tree import DecisionTreeClassifier\n",
    "from sklearn.ensemble import RandomForestClassifier\n",
    "from sklearn.ensemble import GradientBoostingClassifier"
   ]
  },
  {
   "cell_type": "code",
   "execution_count": 3,
   "metadata": {},
   "outputs": [],
   "source": [
    "import warnings\n",
    "warnings.filterwarnings(\"ignore\",category=DeprecationWarning)\n",
    "warnings.filterwarnings(\"ignore\",category=FutureWarning)"
   ]
  },
  {
   "cell_type": "code",
   "execution_count": 4,
   "metadata": {},
   "outputs": [],
   "source": [
    "df=pd.read_csv(\"data/diabetes.csv\")"
   ]
  },
  {
   "cell_type": "code",
   "execution_count": 5,
   "metadata": {},
   "outputs": [
    {
     "data": {
      "text/html": [
       "<div>\n",
       "<style scoped>\n",
       "    .dataframe tbody tr th:only-of-type {\n",
       "        vertical-align: middle;\n",
       "    }\n",
       "\n",
       "    .dataframe tbody tr th {\n",
       "        vertical-align: top;\n",
       "    }\n",
       "\n",
       "    .dataframe thead th {\n",
       "        text-align: right;\n",
       "    }\n",
       "</style>\n",
       "<table border=\"1\" class=\"dataframe\">\n",
       "  <thead>\n",
       "    <tr style=\"text-align: right;\">\n",
       "      <th></th>\n",
       "      <th>Pregnancies</th>\n",
       "      <th>Glucose</th>\n",
       "      <th>BloodPressure</th>\n",
       "      <th>SkinThickness</th>\n",
       "      <th>Insulin</th>\n",
       "      <th>BMI</th>\n",
       "      <th>DiabetesPedigreeFunction</th>\n",
       "      <th>Age</th>\n",
       "      <th>Outcome</th>\n",
       "    </tr>\n",
       "  </thead>\n",
       "  <tbody>\n",
       "    <tr>\n",
       "      <th>0</th>\n",
       "      <td>6</td>\n",
       "      <td>148</td>\n",
       "      <td>72</td>\n",
       "      <td>35</td>\n",
       "      <td>0</td>\n",
       "      <td>33.6</td>\n",
       "      <td>0.627</td>\n",
       "      <td>50</td>\n",
       "      <td>1</td>\n",
       "    </tr>\n",
       "    <tr>\n",
       "      <th>1</th>\n",
       "      <td>1</td>\n",
       "      <td>85</td>\n",
       "      <td>66</td>\n",
       "      <td>29</td>\n",
       "      <td>0</td>\n",
       "      <td>26.6</td>\n",
       "      <td>0.351</td>\n",
       "      <td>31</td>\n",
       "      <td>0</td>\n",
       "    </tr>\n",
       "    <tr>\n",
       "      <th>2</th>\n",
       "      <td>8</td>\n",
       "      <td>183</td>\n",
       "      <td>64</td>\n",
       "      <td>0</td>\n",
       "      <td>0</td>\n",
       "      <td>23.3</td>\n",
       "      <td>0.672</td>\n",
       "      <td>32</td>\n",
       "      <td>1</td>\n",
       "    </tr>\n",
       "    <tr>\n",
       "      <th>3</th>\n",
       "      <td>1</td>\n",
       "      <td>89</td>\n",
       "      <td>66</td>\n",
       "      <td>23</td>\n",
       "      <td>94</td>\n",
       "      <td>28.1</td>\n",
       "      <td>0.167</td>\n",
       "      <td>21</td>\n",
       "      <td>0</td>\n",
       "    </tr>\n",
       "    <tr>\n",
       "      <th>4</th>\n",
       "      <td>0</td>\n",
       "      <td>137</td>\n",
       "      <td>40</td>\n",
       "      <td>35</td>\n",
       "      <td>168</td>\n",
       "      <td>43.1</td>\n",
       "      <td>2.288</td>\n",
       "      <td>33</td>\n",
       "      <td>1</td>\n",
       "    </tr>\n",
       "  </tbody>\n",
       "</table>\n",
       "</div>"
      ],
      "text/plain": [
       "   Pregnancies  Glucose  BloodPressure  SkinThickness  Insulin   BMI  \\\n",
       "0            6      148             72             35        0  33.6   \n",
       "1            1       85             66             29        0  26.6   \n",
       "2            8      183             64              0        0  23.3   \n",
       "3            1       89             66             23       94  28.1   \n",
       "4            0      137             40             35      168  43.1   \n",
       "\n",
       "   DiabetesPedigreeFunction  Age  Outcome  \n",
       "0                     0.627   50        1  \n",
       "1                     0.351   31        0  \n",
       "2                     0.672   32        1  \n",
       "3                     0.167   21        0  \n",
       "4                     2.288   33        1  "
      ]
     },
     "execution_count": 5,
     "metadata": {},
     "output_type": "execute_result"
    }
   ],
   "source": [
    "df.head()"
   ]
  },
  {
   "cell_type": "code",
   "execution_count": 6,
   "metadata": {},
   "outputs": [
    {
     "data": {
      "text/plain": [
       "Outcome\n",
       "0    500\n",
       "1    268\n",
       "Name: count, dtype: int64"
      ]
     },
     "execution_count": 6,
     "metadata": {},
     "output_type": "execute_result"
    }
   ],
   "source": [
    "df[\"Outcome\"].value_counts()"
   ]
  },
  {
   "cell_type": "code",
   "execution_count": 7,
   "metadata": {},
   "outputs": [
    {
     "data": {
      "text/html": [
       "<div>\n",
       "<style scoped>\n",
       "    .dataframe tbody tr th:only-of-type {\n",
       "        vertical-align: middle;\n",
       "    }\n",
       "\n",
       "    .dataframe tbody tr th {\n",
       "        vertical-align: top;\n",
       "    }\n",
       "\n",
       "    .dataframe thead th {\n",
       "        text-align: right;\n",
       "    }\n",
       "</style>\n",
       "<table border=\"1\" class=\"dataframe\">\n",
       "  <thead>\n",
       "    <tr style=\"text-align: right;\">\n",
       "      <th></th>\n",
       "      <th>count</th>\n",
       "      <th>mean</th>\n",
       "      <th>std</th>\n",
       "      <th>min</th>\n",
       "      <th>25%</th>\n",
       "      <th>50%</th>\n",
       "      <th>75%</th>\n",
       "      <th>max</th>\n",
       "    </tr>\n",
       "  </thead>\n",
       "  <tbody>\n",
       "    <tr>\n",
       "      <th>Pregnancies</th>\n",
       "      <td>768.0</td>\n",
       "      <td>3.845052</td>\n",
       "      <td>3.369578</td>\n",
       "      <td>0.000</td>\n",
       "      <td>1.00000</td>\n",
       "      <td>3.0000</td>\n",
       "      <td>6.00000</td>\n",
       "      <td>17.00</td>\n",
       "    </tr>\n",
       "    <tr>\n",
       "      <th>Glucose</th>\n",
       "      <td>768.0</td>\n",
       "      <td>120.894531</td>\n",
       "      <td>31.972618</td>\n",
       "      <td>0.000</td>\n",
       "      <td>99.00000</td>\n",
       "      <td>117.0000</td>\n",
       "      <td>140.25000</td>\n",
       "      <td>199.00</td>\n",
       "    </tr>\n",
       "    <tr>\n",
       "      <th>BloodPressure</th>\n",
       "      <td>768.0</td>\n",
       "      <td>69.105469</td>\n",
       "      <td>19.355807</td>\n",
       "      <td>0.000</td>\n",
       "      <td>62.00000</td>\n",
       "      <td>72.0000</td>\n",
       "      <td>80.00000</td>\n",
       "      <td>122.00</td>\n",
       "    </tr>\n",
       "    <tr>\n",
       "      <th>SkinThickness</th>\n",
       "      <td>768.0</td>\n",
       "      <td>20.536458</td>\n",
       "      <td>15.952218</td>\n",
       "      <td>0.000</td>\n",
       "      <td>0.00000</td>\n",
       "      <td>23.0000</td>\n",
       "      <td>32.00000</td>\n",
       "      <td>99.00</td>\n",
       "    </tr>\n",
       "    <tr>\n",
       "      <th>Insulin</th>\n",
       "      <td>768.0</td>\n",
       "      <td>79.799479</td>\n",
       "      <td>115.244002</td>\n",
       "      <td>0.000</td>\n",
       "      <td>0.00000</td>\n",
       "      <td>30.5000</td>\n",
       "      <td>127.25000</td>\n",
       "      <td>846.00</td>\n",
       "    </tr>\n",
       "    <tr>\n",
       "      <th>BMI</th>\n",
       "      <td>768.0</td>\n",
       "      <td>31.992578</td>\n",
       "      <td>7.884160</td>\n",
       "      <td>0.000</td>\n",
       "      <td>27.30000</td>\n",
       "      <td>32.0000</td>\n",
       "      <td>36.60000</td>\n",
       "      <td>67.10</td>\n",
       "    </tr>\n",
       "    <tr>\n",
       "      <th>DiabetesPedigreeFunction</th>\n",
       "      <td>768.0</td>\n",
       "      <td>0.471876</td>\n",
       "      <td>0.331329</td>\n",
       "      <td>0.078</td>\n",
       "      <td>0.24375</td>\n",
       "      <td>0.3725</td>\n",
       "      <td>0.62625</td>\n",
       "      <td>2.42</td>\n",
       "    </tr>\n",
       "    <tr>\n",
       "      <th>Age</th>\n",
       "      <td>768.0</td>\n",
       "      <td>33.240885</td>\n",
       "      <td>11.760232</td>\n",
       "      <td>21.000</td>\n",
       "      <td>24.00000</td>\n",
       "      <td>29.0000</td>\n",
       "      <td>41.00000</td>\n",
       "      <td>81.00</td>\n",
       "    </tr>\n",
       "    <tr>\n",
       "      <th>Outcome</th>\n",
       "      <td>768.0</td>\n",
       "      <td>0.348958</td>\n",
       "      <td>0.476951</td>\n",
       "      <td>0.000</td>\n",
       "      <td>0.00000</td>\n",
       "      <td>0.0000</td>\n",
       "      <td>1.00000</td>\n",
       "      <td>1.00</td>\n",
       "    </tr>\n",
       "  </tbody>\n",
       "</table>\n",
       "</div>"
      ],
      "text/plain": [
       "                          count        mean         std     min       25%  \\\n",
       "Pregnancies               768.0    3.845052    3.369578   0.000   1.00000   \n",
       "Glucose                   768.0  120.894531   31.972618   0.000  99.00000   \n",
       "BloodPressure             768.0   69.105469   19.355807   0.000  62.00000   \n",
       "SkinThickness             768.0   20.536458   15.952218   0.000   0.00000   \n",
       "Insulin                   768.0   79.799479  115.244002   0.000   0.00000   \n",
       "BMI                       768.0   31.992578    7.884160   0.000  27.30000   \n",
       "DiabetesPedigreeFunction  768.0    0.471876    0.331329   0.078   0.24375   \n",
       "Age                       768.0   33.240885   11.760232  21.000  24.00000   \n",
       "Outcome                   768.0    0.348958    0.476951   0.000   0.00000   \n",
       "\n",
       "                               50%        75%     max  \n",
       "Pregnancies                 3.0000    6.00000   17.00  \n",
       "Glucose                   117.0000  140.25000  199.00  \n",
       "BloodPressure              72.0000   80.00000  122.00  \n",
       "SkinThickness              23.0000   32.00000   99.00  \n",
       "Insulin                    30.5000  127.25000  846.00  \n",
       "BMI                        32.0000   36.60000   67.10  \n",
       "DiabetesPedigreeFunction    0.3725    0.62625    2.42  \n",
       "Age                        29.0000   41.00000   81.00  \n",
       "Outcome                     0.0000    1.00000    1.00  "
      ]
     },
     "execution_count": 7,
     "metadata": {},
     "output_type": "execute_result"
    }
   ],
   "source": [
    "df.describe().T"
   ]
  },
  {
   "cell_type": "code",
   "execution_count": 8,
   "metadata": {},
   "outputs": [],
   "source": [
    "y=df[\"Outcome\"]\n",
    "X=df.drop([\"Outcome\"],axis=1)"
   ]
  },
  {
   "cell_type": "code",
   "execution_count": 9,
   "metadata": {},
   "outputs": [
    {
     "data": {
      "text/plain": [
       "0    1\n",
       "1    0\n",
       "2    1\n",
       "3    0\n",
       "4    1\n",
       "Name: Outcome, dtype: int64"
      ]
     },
     "execution_count": 9,
     "metadata": {},
     "output_type": "execute_result"
    }
   ],
   "source": [
    "y.head()"
   ]
  },
  {
   "cell_type": "code",
   "execution_count": 10,
   "metadata": {},
   "outputs": [
    {
     "data": {
      "text/html": [
       "<div>\n",
       "<style scoped>\n",
       "    .dataframe tbody tr th:only-of-type {\n",
       "        vertical-align: middle;\n",
       "    }\n",
       "\n",
       "    .dataframe tbody tr th {\n",
       "        vertical-align: top;\n",
       "    }\n",
       "\n",
       "    .dataframe thead th {\n",
       "        text-align: right;\n",
       "    }\n",
       "</style>\n",
       "<table border=\"1\" class=\"dataframe\">\n",
       "  <thead>\n",
       "    <tr style=\"text-align: right;\">\n",
       "      <th></th>\n",
       "      <th>Pregnancies</th>\n",
       "      <th>Glucose</th>\n",
       "      <th>BloodPressure</th>\n",
       "      <th>SkinThickness</th>\n",
       "      <th>Insulin</th>\n",
       "      <th>BMI</th>\n",
       "      <th>DiabetesPedigreeFunction</th>\n",
       "      <th>Age</th>\n",
       "    </tr>\n",
       "  </thead>\n",
       "  <tbody>\n",
       "    <tr>\n",
       "      <th>0</th>\n",
       "      <td>6</td>\n",
       "      <td>148</td>\n",
       "      <td>72</td>\n",
       "      <td>35</td>\n",
       "      <td>0</td>\n",
       "      <td>33.6</td>\n",
       "      <td>0.627</td>\n",
       "      <td>50</td>\n",
       "    </tr>\n",
       "    <tr>\n",
       "      <th>1</th>\n",
       "      <td>1</td>\n",
       "      <td>85</td>\n",
       "      <td>66</td>\n",
       "      <td>29</td>\n",
       "      <td>0</td>\n",
       "      <td>26.6</td>\n",
       "      <td>0.351</td>\n",
       "      <td>31</td>\n",
       "    </tr>\n",
       "    <tr>\n",
       "      <th>2</th>\n",
       "      <td>8</td>\n",
       "      <td>183</td>\n",
       "      <td>64</td>\n",
       "      <td>0</td>\n",
       "      <td>0</td>\n",
       "      <td>23.3</td>\n",
       "      <td>0.672</td>\n",
       "      <td>32</td>\n",
       "    </tr>\n",
       "    <tr>\n",
       "      <th>3</th>\n",
       "      <td>1</td>\n",
       "      <td>89</td>\n",
       "      <td>66</td>\n",
       "      <td>23</td>\n",
       "      <td>94</td>\n",
       "      <td>28.1</td>\n",
       "      <td>0.167</td>\n",
       "      <td>21</td>\n",
       "    </tr>\n",
       "    <tr>\n",
       "      <th>4</th>\n",
       "      <td>0</td>\n",
       "      <td>137</td>\n",
       "      <td>40</td>\n",
       "      <td>35</td>\n",
       "      <td>168</td>\n",
       "      <td>43.1</td>\n",
       "      <td>2.288</td>\n",
       "      <td>33</td>\n",
       "    </tr>\n",
       "  </tbody>\n",
       "</table>\n",
       "</div>"
      ],
      "text/plain": [
       "   Pregnancies  Glucose  BloodPressure  SkinThickness  Insulin   BMI  \\\n",
       "0            6      148             72             35        0  33.6   \n",
       "1            1       85             66             29        0  26.6   \n",
       "2            8      183             64              0        0  23.3   \n",
       "3            1       89             66             23       94  28.1   \n",
       "4            0      137             40             35      168  43.1   \n",
       "\n",
       "   DiabetesPedigreeFunction  Age  \n",
       "0                     0.627   50  \n",
       "1                     0.351   31  \n",
       "2                     0.672   32  \n",
       "3                     0.167   21  \n",
       "4                     2.288   33  "
      ]
     },
     "execution_count": 10,
     "metadata": {},
     "output_type": "execute_result"
    }
   ],
   "source": [
    "X.head()"
   ]
  },
  {
   "cell_type": "markdown",
   "metadata": {},
   "source": [
    "## CART\n"
   ]
  },
  {
   "cell_type": "markdown",
   "metadata": {},
   "source": [
    "### CART Model ve Tahmin\n"
   ]
  },
  {
   "cell_type": "code",
   "execution_count": 11,
   "metadata": {},
   "outputs": [
    {
     "data": {
      "text/html": [
       "<div>\n",
       "<style scoped>\n",
       "    .dataframe tbody tr th:only-of-type {\n",
       "        vertical-align: middle;\n",
       "    }\n",
       "\n",
       "    .dataframe tbody tr th {\n",
       "        vertical-align: top;\n",
       "    }\n",
       "\n",
       "    .dataframe thead th {\n",
       "        text-align: right;\n",
       "    }\n",
       "</style>\n",
       "<table border=\"1\" class=\"dataframe\">\n",
       "  <thead>\n",
       "    <tr style=\"text-align: right;\">\n",
       "      <th></th>\n",
       "      <th>Pregnancies</th>\n",
       "      <th>Glucose</th>\n",
       "      <th>BloodPressure</th>\n",
       "      <th>SkinThickness</th>\n",
       "      <th>Insulin</th>\n",
       "      <th>BMI</th>\n",
       "      <th>DiabetesPedigreeFunction</th>\n",
       "      <th>Age</th>\n",
       "      <th>Outcome</th>\n",
       "    </tr>\n",
       "  </thead>\n",
       "  <tbody>\n",
       "    <tr>\n",
       "      <th>0</th>\n",
       "      <td>6</td>\n",
       "      <td>148</td>\n",
       "      <td>72</td>\n",
       "      <td>35</td>\n",
       "      <td>0</td>\n",
       "      <td>33.6</td>\n",
       "      <td>0.627</td>\n",
       "      <td>50</td>\n",
       "      <td>1</td>\n",
       "    </tr>\n",
       "    <tr>\n",
       "      <th>1</th>\n",
       "      <td>1</td>\n",
       "      <td>85</td>\n",
       "      <td>66</td>\n",
       "      <td>29</td>\n",
       "      <td>0</td>\n",
       "      <td>26.6</td>\n",
       "      <td>0.351</td>\n",
       "      <td>31</td>\n",
       "      <td>0</td>\n",
       "    </tr>\n",
       "    <tr>\n",
       "      <th>2</th>\n",
       "      <td>8</td>\n",
       "      <td>183</td>\n",
       "      <td>64</td>\n",
       "      <td>0</td>\n",
       "      <td>0</td>\n",
       "      <td>23.3</td>\n",
       "      <td>0.672</td>\n",
       "      <td>32</td>\n",
       "      <td>1</td>\n",
       "    </tr>\n",
       "    <tr>\n",
       "      <th>3</th>\n",
       "      <td>1</td>\n",
       "      <td>89</td>\n",
       "      <td>66</td>\n",
       "      <td>23</td>\n",
       "      <td>94</td>\n",
       "      <td>28.1</td>\n",
       "      <td>0.167</td>\n",
       "      <td>21</td>\n",
       "      <td>0</td>\n",
       "    </tr>\n",
       "    <tr>\n",
       "      <th>4</th>\n",
       "      <td>0</td>\n",
       "      <td>137</td>\n",
       "      <td>40</td>\n",
       "      <td>35</td>\n",
       "      <td>168</td>\n",
       "      <td>43.1</td>\n",
       "      <td>2.288</td>\n",
       "      <td>33</td>\n",
       "      <td>1</td>\n",
       "    </tr>\n",
       "  </tbody>\n",
       "</table>\n",
       "</div>"
      ],
      "text/plain": [
       "   Pregnancies  Glucose  BloodPressure  SkinThickness  Insulin   BMI  \\\n",
       "0            6      148             72             35        0  33.6   \n",
       "1            1       85             66             29        0  26.6   \n",
       "2            8      183             64              0        0  23.3   \n",
       "3            1       89             66             23       94  28.1   \n",
       "4            0      137             40             35      168  43.1   \n",
       "\n",
       "   DiabetesPedigreeFunction  Age  Outcome  \n",
       "0                     0.627   50        1  \n",
       "1                     0.351   31        0  \n",
       "2                     0.672   32        1  \n",
       "3                     0.167   21        0  \n",
       "4                     2.288   33        1  "
      ]
     },
     "execution_count": 11,
     "metadata": {},
     "output_type": "execute_result"
    }
   ],
   "source": [
    "df.head()"
   ]
  },
  {
   "cell_type": "code",
   "execution_count": 12,
   "metadata": {},
   "outputs": [],
   "source": [
    "X_train,X_test,y_train,y_test = train_test_split(X,y,test_size=0.30,random_state=42)"
   ]
  },
  {
   "cell_type": "code",
   "execution_count": 13,
   "metadata": {},
   "outputs": [],
   "source": [
    "cart_model = DecisionTreeClassifier().fit(X_train,y_train)"
   ]
  },
  {
   "cell_type": "code",
   "execution_count": 14,
   "metadata": {},
   "outputs": [
    {
     "data": {
      "text/html": [
       "<style>#sk-container-id-1 {color: black;}#sk-container-id-1 pre{padding: 0;}#sk-container-id-1 div.sk-toggleable {background-color: white;}#sk-container-id-1 label.sk-toggleable__label {cursor: pointer;display: block;width: 100%;margin-bottom: 0;padding: 0.3em;box-sizing: border-box;text-align: center;}#sk-container-id-1 label.sk-toggleable__label-arrow:before {content: \"▸\";float: left;margin-right: 0.25em;color: #696969;}#sk-container-id-1 label.sk-toggleable__label-arrow:hover:before {color: black;}#sk-container-id-1 div.sk-estimator:hover label.sk-toggleable__label-arrow:before {color: black;}#sk-container-id-1 div.sk-toggleable__content {max-height: 0;max-width: 0;overflow: hidden;text-align: left;background-color: #f0f8ff;}#sk-container-id-1 div.sk-toggleable__content pre {margin: 0.2em;color: black;border-radius: 0.25em;background-color: #f0f8ff;}#sk-container-id-1 input.sk-toggleable__control:checked~div.sk-toggleable__content {max-height: 200px;max-width: 100%;overflow: auto;}#sk-container-id-1 input.sk-toggleable__control:checked~label.sk-toggleable__label-arrow:before {content: \"▾\";}#sk-container-id-1 div.sk-estimator input.sk-toggleable__control:checked~label.sk-toggleable__label {background-color: #d4ebff;}#sk-container-id-1 div.sk-label input.sk-toggleable__control:checked~label.sk-toggleable__label {background-color: #d4ebff;}#sk-container-id-1 input.sk-hidden--visually {border: 0;clip: rect(1px 1px 1px 1px);clip: rect(1px, 1px, 1px, 1px);height: 1px;margin: -1px;overflow: hidden;padding: 0;position: absolute;width: 1px;}#sk-container-id-1 div.sk-estimator {font-family: monospace;background-color: #f0f8ff;border: 1px dotted black;border-radius: 0.25em;box-sizing: border-box;margin-bottom: 0.5em;}#sk-container-id-1 div.sk-estimator:hover {background-color: #d4ebff;}#sk-container-id-1 div.sk-parallel-item::after {content: \"\";width: 100%;border-bottom: 1px solid gray;flex-grow: 1;}#sk-container-id-1 div.sk-label:hover label.sk-toggleable__label {background-color: #d4ebff;}#sk-container-id-1 div.sk-serial::before {content: \"\";position: absolute;border-left: 1px solid gray;box-sizing: border-box;top: 0;bottom: 0;left: 50%;z-index: 0;}#sk-container-id-1 div.sk-serial {display: flex;flex-direction: column;align-items: center;background-color: white;padding-right: 0.2em;padding-left: 0.2em;position: relative;}#sk-container-id-1 div.sk-item {position: relative;z-index: 1;}#sk-container-id-1 div.sk-parallel {display: flex;align-items: stretch;justify-content: center;background-color: white;position: relative;}#sk-container-id-1 div.sk-item::before, #sk-container-id-1 div.sk-parallel-item::before {content: \"\";position: absolute;border-left: 1px solid gray;box-sizing: border-box;top: 0;bottom: 0;left: 50%;z-index: -1;}#sk-container-id-1 div.sk-parallel-item {display: flex;flex-direction: column;z-index: 1;position: relative;background-color: white;}#sk-container-id-1 div.sk-parallel-item:first-child::after {align-self: flex-end;width: 50%;}#sk-container-id-1 div.sk-parallel-item:last-child::after {align-self: flex-start;width: 50%;}#sk-container-id-1 div.sk-parallel-item:only-child::after {width: 0;}#sk-container-id-1 div.sk-dashed-wrapped {border: 1px dashed gray;margin: 0 0.4em 0.5em 0.4em;box-sizing: border-box;padding-bottom: 0.4em;background-color: white;}#sk-container-id-1 div.sk-label label {font-family: monospace;font-weight: bold;display: inline-block;line-height: 1.2em;}#sk-container-id-1 div.sk-label-container {text-align: center;}#sk-container-id-1 div.sk-container {/* jupyter's `normalize.less` sets `[hidden] { display: none; }` but bootstrap.min.css set `[hidden] { display: none !important; }` so we also need the `!important` here to be able to override the default hidden behavior on the sphinx rendered scikit-learn.org. See: https://github.com/scikit-learn/scikit-learn/issues/21755 */display: inline-block !important;position: relative;}#sk-container-id-1 div.sk-text-repr-fallback {display: none;}</style><div id=\"sk-container-id-1\" class=\"sk-top-container\"><div class=\"sk-text-repr-fallback\"><pre>DecisionTreeClassifier()</pre><b>In a Jupyter environment, please rerun this cell to show the HTML representation or trust the notebook. <br />On GitHub, the HTML representation is unable to render, please try loading this page with nbviewer.org.</b></div><div class=\"sk-container\" hidden><div class=\"sk-item\"><div class=\"sk-estimator sk-toggleable\"><input class=\"sk-toggleable__control sk-hidden--visually\" id=\"sk-estimator-id-1\" type=\"checkbox\" checked><label for=\"sk-estimator-id-1\" class=\"sk-toggleable__label sk-toggleable__label-arrow\">DecisionTreeClassifier</label><div class=\"sk-toggleable__content\"><pre>DecisionTreeClassifier()</pre></div></div></div></div></div>"
      ],
      "text/plain": [
       "DecisionTreeClassifier()"
      ]
     },
     "execution_count": 14,
     "metadata": {},
     "output_type": "execute_result"
    }
   ],
   "source": [
    "cart_model"
   ]
  },
  {
   "cell_type": "code",
   "execution_count": 15,
   "metadata": {},
   "outputs": [
    {
     "data": {
      "text/plain": [
       "0.7012987012987013"
      ]
     },
     "execution_count": 15,
     "metadata": {},
     "output_type": "execute_result"
    }
   ],
   "source": [
    "y_pred = cart_model.predict(X_test)\n",
    "accuracy_score(y_test,y_pred)"
   ]
  },
  {
   "cell_type": "markdown",
   "metadata": {},
   "source": [
    "### CART Model Tuning\n",
    " "
   ]
  },
  {
   "cell_type": "code",
   "execution_count": 81,
   "metadata": {},
   "outputs": [],
   "source": [
    "cart = DecisionTreeClassifier()"
   ]
  },
  {
   "cell_type": "code",
   "execution_count": 87,
   "metadata": {},
   "outputs": [],
   "source": [
    "cart_params = {\"max_depth\":[1,3,5,8,10],\n",
    "              \"min_samples_split\":[2,3,5,10,20]}"
   ]
  },
  {
   "cell_type": "code",
   "execution_count": 88,
   "metadata": {},
   "outputs": [
    {
     "name": "stdout",
     "output_type": "stream",
     "text": [
      "Fitting 10 folds for each of 25 candidates, totalling 250 fits\n"
     ]
    },
    {
     "name": "stderr",
     "output_type": "stream",
     "text": [
      "[Parallel(n_jobs=-1)]: Using backend LokyBackend with 4 concurrent workers.\n",
      "[Parallel(n_jobs=-1)]: Done 136 tasks      | elapsed:    0.4s\n",
      "[Parallel(n_jobs=-1)]: Done 250 out of 250 | elapsed:    0.7s finished\n"
     ]
    }
   ],
   "source": [
    "cart_cv_model = GridSearchCV(cart,cart_params,cv=10,n_jobs=-1,verbose=2).fit(X_train,y_train)"
   ]
  },
  {
   "cell_type": "code",
   "execution_count": 89,
   "metadata": {},
   "outputs": [
    {
     "data": {
      "text/plain": [
       "{'max_depth': 5, 'min_samples_split': 20}"
      ]
     },
     "execution_count": 89,
     "metadata": {},
     "output_type": "execute_result"
    }
   ],
   "source": [
    "cart_cv_model.best_params_"
   ]
  },
  {
   "cell_type": "code",
   "execution_count": 90,
   "metadata": {},
   "outputs": [],
   "source": [
    "cart_tuned = DecisionTreeClassifier(max_depth=5,min_samples_split=20).fit(X_train,y_train)"
   ]
  },
  {
   "cell_type": "code",
   "execution_count": 91,
   "metadata": {},
   "outputs": [
    {
     "data": {
      "text/plain": [
       "0.7532467532467533"
      ]
     },
     "execution_count": 91,
     "metadata": {},
     "output_type": "execute_result"
    }
   ],
   "source": [
    "y_pred = cart_tuned.predict(X_test)\n",
    "accuracy_score(y_test,y_pred)"
   ]
  },
  {
   "cell_type": "markdown",
   "metadata": {},
   "source": [
    "## Random Forests\n"
   ]
  },
  {
   "cell_type": "markdown",
   "metadata": {},
   "source": [
    "### Random Forests Model ve Tahmin\n"
   ]
  },
  {
   "cell_type": "code",
   "execution_count": 92,
   "metadata": {},
   "outputs": [],
   "source": [
    "rf_model = RandomForestClassifier().fit(X_train,y_train)"
   ]
  },
  {
   "cell_type": "code",
   "execution_count": 93,
   "metadata": {},
   "outputs": [
    {
     "data": {
      "text/plain": [
       "RandomForestClassifier(bootstrap=True, ccp_alpha=0.0, class_weight=None,\n",
       "                       criterion='gini', max_depth=None, max_features='auto',\n",
       "                       max_leaf_nodes=None, max_samples=None,\n",
       "                       min_impurity_decrease=0.0, min_impurity_split=None,\n",
       "                       min_samples_leaf=1, min_samples_split=2,\n",
       "                       min_weight_fraction_leaf=0.0, n_estimators=100,\n",
       "                       n_jobs=None, oob_score=False, random_state=None,\n",
       "                       verbose=0, warm_start=False)"
      ]
     },
     "execution_count": 93,
     "metadata": {},
     "output_type": "execute_result"
    }
   ],
   "source": [
    "rf_model"
   ]
  },
  {
   "cell_type": "code",
   "execution_count": 94,
   "metadata": {},
   "outputs": [
    {
     "data": {
      "text/plain": [
       "0.7359307359307359"
      ]
     },
     "execution_count": 94,
     "metadata": {},
     "output_type": "execute_result"
    }
   ],
   "source": [
    "y_pred = rf_model.predict(X_test)\n",
    "accuracy_score(y_test,y_pred)"
   ]
  },
  {
   "cell_type": "markdown",
   "metadata": {},
   "source": [
    "### Random Forests Model Tuning\n"
   ]
  },
  {
   "cell_type": "code",
   "execution_count": 95,
   "metadata": {},
   "outputs": [],
   "source": [
    "rf = RandomForestClassifier()"
   ]
  },
  {
   "cell_type": "code",
   "execution_count": 97,
   "metadata": {},
   "outputs": [],
   "source": [
    "rf_params = {\"n_estimators\":[100,500,1000],\n",
    "            \"max_features\":[3,5,8],\n",
    "            \"min_samples_split\":[2,5,10]}"
   ]
  },
  {
   "cell_type": "code",
   "execution_count": 98,
   "metadata": {},
   "outputs": [
    {
     "name": "stdout",
     "output_type": "stream",
     "text": [
      "Fitting 10 folds for each of 27 candidates, totalling 270 fits\n"
     ]
    },
    {
     "name": "stderr",
     "output_type": "stream",
     "text": [
      "[Parallel(n_jobs=-1)]: Using backend LokyBackend with 4 concurrent workers.\n",
      "[Parallel(n_jobs=-1)]: Done  33 tasks      | elapsed:   21.2s\n",
      "[Parallel(n_jobs=-1)]: Done 154 tasks      | elapsed:  1.6min\n",
      "[Parallel(n_jobs=-1)]: Done 270 out of 270 | elapsed:  2.9min finished\n"
     ]
    }
   ],
   "source": [
    "rf_cv_model = GridSearchCV(rf,rf_params,cv=10,n_jobs=-1,verbose=2).fit(X_train,y_train)"
   ]
  },
  {
   "cell_type": "code",
   "execution_count": 99,
   "metadata": {},
   "outputs": [
    {
     "data": {
      "text/plain": [
       "{'max_features': 8, 'min_samples_split': 5, 'n_estimators': 100}"
      ]
     },
     "execution_count": 99,
     "metadata": {},
     "output_type": "execute_result"
    }
   ],
   "source": [
    "rf_cv_model.best_params_"
   ]
  },
  {
   "cell_type": "code",
   "execution_count": 101,
   "metadata": {},
   "outputs": [],
   "source": [
    "rf_tuned = RandomForestClassifier(n_estimators=500,max_features=8,min_samples_split=5).fit(X_train,y_train)"
   ]
  },
  {
   "cell_type": "code",
   "execution_count": 102,
   "metadata": {},
   "outputs": [
    {
     "data": {
      "text/plain": [
       "0.7445887445887446"
      ]
     },
     "execution_count": 102,
     "metadata": {},
     "output_type": "execute_result"
    }
   ],
   "source": [
    "y_pred = rf_tuned.predict(X_test)\n",
    "accuracy_score(y_test,y_pred)"
   ]
  },
  {
   "cell_type": "code",
   "execution_count": 106,
   "metadata": {},
   "outputs": [
    {
     "data": {
      "image/png": "[encoded data removed]",
      "text/plain": [
       "<Figure size 432x288 with 1 Axes>"
      ]
     },
     "metadata": {
      "needs_background": "light"
     },
     "output_type": "display_data"
    }
   ],
   "source": [
    "#değişken önem düzeyleri\n",
    "\n",
    "Importance = pd.DataFrame({\"Importance\":rf_tuned.feature_importances_*100},index=X_train.columns)\n",
    "Importance.sort_values(by=\"Importance\",axis=0,ascending=True).plot(kind=\"barh\");\n",
    "plt.xlabel(\"Variable importance\")\n",
    "plt.gca().legend_=None"
   ]
  },
  {
   "cell_type": "markdown",
   "metadata": {},
   "source": [
    "## Gradient Boosting Machines (GBM)\n"
   ]
  },
  {
   "cell_type": "markdown",
   "metadata": {},
   "source": [
    "### Gradient Boosting Machines Model ve Tahmin\n"
   ]
  },
  {
   "cell_type": "code",
   "execution_count": 107,
   "metadata": {},
   "outputs": [],
   "source": [
    "gbm_model = GradientBoostingClassifier().fit(X_train,y_train)"
   ]
  },
  {
   "cell_type": "code",
   "execution_count": 108,
   "metadata": {},
   "outputs": [
    {
     "data": {
      "text/plain": [
       "GradientBoostingClassifier(ccp_alpha=0.0, criterion='friedman_mse', init=None,\n",
       "                           learning_rate=0.1, loss='deviance', max_depth=3,\n",
       "                           max_features=None, max_leaf_nodes=None,\n",
       "                           min_impurity_decrease=0.0, min_impurity_split=None,\n",
       "                           min_samples_leaf=1, min_samples_split=2,\n",
       "                           min_weight_fraction_leaf=0.0, n_estimators=100,\n",
       "                           n_iter_no_change=None, presort='deprecated',\n",
       "                           random_state=None, subsample=1.0, tol=0.0001,\n",
       "                           validation_fraction=0.1, verbose=0,\n",
       "                           warm_start=False)"
      ]
     },
     "execution_count": 108,
     "metadata": {},
     "output_type": "execute_result"
    }
   ],
   "source": [
    "gbm_model"
   ]
  },
  {
   "cell_type": "code",
   "execution_count": 109,
   "metadata": {
    "collapsed": true,
    "jupyter": {
     "outputs_hidden": true
    }
   },
   "outputs": [
    {
     "data": {
      "text/plain": [
       "\u001b[1;31mType:\u001b[0m        GradientBoostingClassifier\n",
       "\u001b[1;31mString form:\u001b[0m\n",
       "GradientBoostingClassifier(ccp_alpha=0.0, criterion='friedman_mse', init=None,\n",
       "           <...>                  validation_fraction=0.1, verbose=0,\n",
       "           warm_start=False)\n",
       "\u001b[1;31mLength:\u001b[0m      100\n",
       "\u001b[1;31mFile:\u001b[0m        c:\\users\\feyza\\anaconda3\\lib\\site-packages\\sklearn\\ensemble\\_gb.py\n",
       "\u001b[1;31mDocstring:\u001b[0m  \n",
       "Gradient Boosting for classification.\n",
       "\n",
       "GB builds an additive model in a\n",
       "forward stage-wise fashion; it allows for the optimization of\n",
       "arbitrary differentiable loss functions. In each stage ``n_classes_``\n",
       "regression trees are fit on the negative gradient of the\n",
       "binomial or multinomial deviance loss function. Binary classification\n",
       "is a special case where only a single regression tree is induced.\n",
       "\n",
       "Read more in the :ref:`User Guide <gradient_boosting>`.\n",
       "\n",
       "Parameters\n",
       "----------\n",
       "loss : {'deviance', 'exponential'}, optional (default='deviance')\n",
       "    loss function to be optimized. 'deviance' refers to\n",
       "    deviance (= logistic regression) for classification\n",
       "    with probabilistic outputs. For loss 'exponential' gradient\n",
       "    boosting recovers the AdaBoost algorithm.\n",
       "\n",
       "learning_rate : float, optional (default=0.1)\n",
       "    learning rate shrinks the contribution of each tree by `learning_rate`.\n",
       "    There is a trade-off between learning_rate and n_estimators.\n",
       "\n",
       "n_estimators : int (default=100)\n",
       "    The number of boosting stages to perform. Gradient boosting\n",
       "    is fairly robust to over-fitting so a large number usually\n",
       "    results in better performance.\n",
       "\n",
       "subsample : float, optional (default=1.0)\n",
       "    The fraction of samples to be used for fitting the individual base\n",
       "    learners. If smaller than 1.0 this results in Stochastic Gradient\n",
       "    Boosting. `subsample` interacts with the parameter `n_estimators`.\n",
       "    Choosing `subsample < 1.0` leads to a reduction of variance\n",
       "    and an increase in bias.\n",
       "\n",
       "criterion : string, optional (default=\"friedman_mse\")\n",
       "    The function to measure the quality of a split. Supported criteria\n",
       "    are \"friedman_mse\" for the mean squared error with improvement\n",
       "    score by Friedman, \"mse\" for mean squared error, and \"mae\" for\n",
       "    the mean absolute error. The default value of \"friedman_mse\" is\n",
       "    generally the best as it can provide a better approximation in\n",
       "    some cases.\n",
       "\n",
       "    .. versionadded:: 0.18\n",
       "\n",
       "min_samples_split : int, float, optional (default=2)\n",
       "    The minimum number of samples required to split an internal node:\n",
       "\n",
       "    - If int, then consider `min_samples_split` as the minimum number.\n",
       "    - If float, then `min_samples_split` is a fraction and\n",
       "      `ceil(min_samples_split * n_samples)` are the minimum\n",
       "      number of samples for each split.\n",
       "\n",
       "    .. versionchanged:: 0.18\n",
       "       Added float values for fractions.\n",
       "\n",
       "min_samples_leaf : int, float, optional (default=1)\n",
       "    The minimum number of samples required to be at a leaf node.\n",
       "    A split point at any depth will only be considered if it leaves at\n",
       "    least ``min_samples_leaf`` training samples in each of the left and\n",
       "    right branches.  This may have the effect of smoothing the model,\n",
       "    especially in regression.\n",
       "\n",
       "    - If int, then consider `min_samples_leaf` as the minimum number.\n",
       "    - If float, then `min_samples_leaf` is a fraction and\n",
       "      `ceil(min_samples_leaf * n_samples)` are the minimum\n",
       "      number of samples for each node.\n",
       "\n",
       "    .. versionchanged:: 0.18\n",
       "       Added float values for fractions.\n",
       "\n",
       "min_weight_fraction_leaf : float, optional (default=0.)\n",
       "    The minimum weighted fraction of the sum total of weights (of all\n",
       "    the input samples) required to be at a leaf node. Samples have\n",
       "    equal weight when sample_weight is not provided.\n",
       "\n",
       "max_depth : integer, optional (default=3)\n",
       "    maximum depth of the individual regression estimators. The maximum\n",
       "    depth limits the number of nodes in the tree. Tune this parameter\n",
       "    for best performance; the best value depends on the interaction\n",
       "    of the input variables.\n",
       "\n",
       "min_impurity_decrease : float, optional (default=0.)\n",
       "    A node will be split if this split induces a decrease of the impurity\n",
       "    greater than or equal to this value.\n",
       "\n",
       "    The weighted impurity decrease equation is the following::\n",
       "\n",
       "        N_t / N * (impurity - N_t_R / N_t * right_impurity\n",
       "                            - N_t_L / N_t * left_impurity)\n",
       "\n",
       "    where ``N`` is the total number of samples, ``N_t`` is the number of\n",
       "    samples at the current node, ``N_t_L`` is the number of samples in the\n",
       "    left child, and ``N_t_R`` is the number of samples in the right child.\n",
       "\n",
       "    ``N``, ``N_t``, ``N_t_R`` and ``N_t_L`` all refer to the weighted sum,\n",
       "    if ``sample_weight`` is passed.\n",
       "\n",
       "    .. versionadded:: 0.19\n",
       "\n",
       "min_impurity_split : float, (default=1e-7)\n",
       "    Threshold for early stopping in tree growth. A node will split\n",
       "    if its impurity is above the threshold, otherwise it is a leaf.\n",
       "\n",
       "    .. deprecated:: 0.19\n",
       "       ``min_impurity_split`` has been deprecated in favor of\n",
       "       ``min_impurity_decrease`` in 0.19. The default value of\n",
       "       ``min_impurity_split`` will change from 1e-7 to 0 in 0.23 and it\n",
       "       will be removed in 0.25. Use ``min_impurity_decrease`` instead.\n",
       "\n",
       "init : estimator or 'zero', optional (default=None)\n",
       "    An estimator object that is used to compute the initial predictions.\n",
       "    ``init`` has to provide :meth:`fit` and :meth:`predict_proba`. If\n",
       "    'zero', the initial raw predictions are set to zero. By default, a\n",
       "    ``DummyEstimator`` predicting the classes priors is used.\n",
       "\n",
       "random_state : int, RandomState instance or None, optional (default=None)\n",
       "    If int, random_state is the seed used by the random number generator;\n",
       "    If RandomState instance, random_state is the random number generator;\n",
       "    If None, the random number generator is the RandomState instance used\n",
       "    by `np.random`.\n",
       "\n",
       "max_features : int, float, string or None, optional (default=None)\n",
       "    The number of features to consider when looking for the best split:\n",
       "\n",
       "    - If int, then consider `max_features` features at each split.\n",
       "    - If float, then `max_features` is a fraction and\n",
       "      `int(max_features * n_features)` features are considered at each\n",
       "      split.\n",
       "    - If \"auto\", then `max_features=sqrt(n_features)`.\n",
       "    - If \"sqrt\", then `max_features=sqrt(n_features)`.\n",
       "    - If \"log2\", then `max_features=log2(n_features)`.\n",
       "    - If None, then `max_features=n_features`.\n",
       "\n",
       "    Choosing `max_features < n_features` leads to a reduction of variance\n",
       "    and an increase in bias.\n",
       "\n",
       "    Note: the search for a split does not stop until at least one\n",
       "    valid partition of the node samples is found, even if it requires to\n",
       "    effectively inspect more than ``max_features`` features.\n",
       "\n",
       "verbose : int, default: 0\n",
       "    Enable verbose output. If 1 then it prints progress and performance\n",
       "    once in a while (the more trees the lower the frequency). If greater\n",
       "    than 1 then it prints progress and performance for every tree.\n",
       "\n",
       "max_leaf_nodes : int or None, optional (default=None)\n",
       "    Grow trees with ``max_leaf_nodes`` in best-first fashion.\n",
       "    Best nodes are defined as relative reduction in impurity.\n",
       "    If None then unlimited number of leaf nodes.\n",
       "\n",
       "warm_start : bool, default: False\n",
       "    When set to ``True``, reuse the solution of the previous call to fit\n",
       "    and add more estimators to the ensemble, otherwise, just erase the\n",
       "    previous solution. See :term:`the Glossary <warm_start>`.\n",
       "\n",
       "presort : deprecated, default='deprecated'\n",
       "    This parameter is deprecated and will be removed in v0.24.\n",
       "\n",
       "    .. deprecated :: 0.22\n",
       "\n",
       "validation_fraction : float, optional, default 0.1\n",
       "    The proportion of training data to set aside as validation set for\n",
       "    early stopping. Must be between 0 and 1.\n",
       "    Only used if ``n_iter_no_change`` is set to an integer.\n",
       "\n",
       "    .. versionadded:: 0.20\n",
       "\n",
       "n_iter_no_change : int, default None\n",
       "    ``n_iter_no_change`` is used to decide if early stopping will be used\n",
       "    to terminate training when validation score is not improving. By\n",
       "    default it is set to None to disable early stopping. If set to a\n",
       "    number, it will set aside ``validation_fraction`` size of the training\n",
       "    data as validation and terminate training when validation score is not\n",
       "    improving in all of the previous ``n_iter_no_change`` numbers of\n",
       "    iterations. The split is stratified.\n",
       "\n",
       "    .. versionadded:: 0.20\n",
       "\n",
       "tol : float, optional, default 1e-4\n",
       "    Tolerance for the early stopping. When the loss is not improving\n",
       "    by at least tol for ``n_iter_no_change`` iterations (if set to a\n",
       "    number), the training stops.\n",
       "\n",
       "    .. versionadded:: 0.20\n",
       "\n",
       "ccp_alpha : non-negative float, optional (default=0.0)\n",
       "    Complexity parameter used for Minimal Cost-Complexity Pruning. The\n",
       "    subtree with the largest cost complexity that is smaller than\n",
       "    ``ccp_alpha`` will be chosen. By default, no pruning is performed. See\n",
       "    :ref:`minimal_cost_complexity_pruning` for details.\n",
       "\n",
       "    .. versionadded:: 0.22\n",
       "\n",
       "Attributes\n",
       "----------\n",
       "n_estimators_ : int\n",
       "    The number of estimators as selected by early stopping (if\n",
       "    ``n_iter_no_change`` is specified). Otherwise it is set to\n",
       "    ``n_estimators``.\n",
       "\n",
       "    .. versionadded:: 0.20\n",
       "\n",
       "feature_importances_ : array, shape (n_features,)\n",
       "    The feature importances (the higher, the more important the feature).\n",
       "\n",
       "oob_improvement_ : array, shape (n_estimators,)\n",
       "    The improvement in loss (= deviance) on the out-of-bag samples\n",
       "    relative to the previous iteration.\n",
       "    ``oob_improvement_[0]`` is the improvement in\n",
       "    loss of the first stage over the ``init`` estimator.\n",
       "    Only available if ``subsample < 1.0``\n",
       "\n",
       "train_score_ : array, shape (n_estimators,)\n",
       "    The i-th score ``train_score_[i]`` is the deviance (= loss) of the\n",
       "    model at iteration ``i`` on the in-bag sample.\n",
       "    If ``subsample == 1`` this is the deviance on the training data.\n",
       "\n",
       "loss_ : LossFunction\n",
       "    The concrete ``LossFunction`` object.\n",
       "\n",
       "init_ : estimator\n",
       "    The estimator that provides the initial predictions.\n",
       "    Set via the ``init`` argument or ``loss.init_estimator``.\n",
       "\n",
       "estimators_ : ndarray of DecisionTreeRegressor,shape (n_estimators, ``loss_.K``)\n",
       "    The collection of fitted sub-estimators. ``loss_.K`` is 1 for binary\n",
       "    classification, otherwise n_classes.\n",
       "\n",
       "classes_ : array of shape (n_classes,)\n",
       "    The classes labels.\n",
       "\n",
       "Notes\n",
       "-----\n",
       "The features are always randomly permuted at each split. Therefore,\n",
       "the best found split may vary, even with the same training data and\n",
       "``max_features=n_features``, if the improvement of the criterion is\n",
       "identical for several splits enumerated during the search of the best\n",
       "split. To obtain a deterministic behaviour during fitting,\n",
       "``random_state`` has to be fixed.\n",
       "\n",
       "See also\n",
       "--------\n",
       "sklearn.ensemble.HistGradientBoostingClassifier,\n",
       "sklearn.tree.DecisionTreeClassifier, RandomForestClassifier\n",
       "AdaBoostClassifier\n",
       "\n",
       "References\n",
       "----------\n",
       "J. Friedman, Greedy Function Approximation: A Gradient Boosting\n",
       "Machine, The Annals of Statistics, Vol. 29, No. 5, 2001.\n",
       "\n",
       "J. Friedman, Stochastic Gradient Boosting, 1999\n",
       "\n",
       "T. Hastie, R. Tibshirani and J. Friedman.\n",
       "Elements of Statistical Learning Ed. 2, Springer, 2009.\n"
      ]
     },
     "metadata": {},
     "output_type": "display_data"
    }
   ],
   "source": [
    "?gbm_model"
   ]
  },
  {
   "cell_type": "code",
   "execution_count": 110,
   "metadata": {},
   "outputs": [
    {
     "data": {
      "text/plain": [
       "0.7489177489177489"
      ]
     },
     "execution_count": 110,
     "metadata": {},
     "output_type": "execute_result"
    }
   ],
   "source": [
    "y_pred = gbm_model.predict(X_test)\n",
    "accuracy_score(y_test,y_pred)"
   ]
  },
  {
   "cell_type": "markdown",
   "metadata": {},
   "source": [
    "### Gradient Boosting Machines Model Tuning\n"
   ]
  },
  {
   "cell_type": "code",
   "execution_count": 111,
   "metadata": {},
   "outputs": [],
   "source": [
    "gbm = GradientBoostingClassifier()"
   ]
  },
  {
   "cell_type": "code",
   "execution_count": 112,
   "metadata": {},
   "outputs": [],
   "source": [
    "gbm_params = {\"learning_rate\":[0.1,0.01,0.001,0.05],\n",
    "             \"n_estimators\":[100,500,1000],\n",
    "             \"max_depth\":[2,5,8]}"
   ]
  },
  {
   "cell_type": "code",
   "execution_count": 113,
   "metadata": {},
   "outputs": [
    {
     "name": "stdout",
     "output_type": "stream",
     "text": [
      "Fitting 10 folds for each of 36 candidates, totalling 360 fits\n"
     ]
    },
    {
     "name": "stderr",
     "output_type": "stream",
     "text": [
      "[Parallel(n_jobs=-1)]: Using backend LokyBackend with 4 concurrent workers.\n",
      "[Parallel(n_jobs=-1)]: Done  33 tasks      | elapsed:   12.0s\n",
      "[Parallel(n_jobs=-1)]: Done 154 tasks      | elapsed:   59.2s\n",
      "[Parallel(n_jobs=-1)]: Done 360 out of 360 | elapsed:  3.2min finished\n"
     ]
    }
   ],
   "source": [
    "gbm_cv_model = GridSearchCV(gbm,gbm_params,cv=10,n_jobs=-1,verbose=2).fit(X_train,y_train)"
   ]
  },
  {
   "cell_type": "code",
   "execution_count": 117,
   "metadata": {},
   "outputs": [
    {
     "data": {
      "text/plain": [
       "{'learning_rate': 0.05, 'max_depth': 5, 'n_estimators': 100}"
      ]
     },
     "execution_count": 117,
     "metadata": {},
     "output_type": "execute_result"
    }
   ],
   "source": [
    "gbm_cv_model.best_params_"
   ]
  },
  {
   "cell_type": "code",
   "execution_count": 118,
   "metadata": {},
   "outputs": [],
   "source": [
    "gbm_tuned=GradientBoostingClassifier(learning_rate=0.01,n_estimators=500,max_depth=5).fit(X_train,y_train)"
   ]
  },
  {
   "cell_type": "code",
   "execution_count": 119,
   "metadata": {},
   "outputs": [
    {
     "data": {
      "text/plain": [
       "0.7316017316017316"
      ]
     },
     "execution_count": 119,
     "metadata": {},
     "output_type": "execute_result"
    }
   ],
   "source": [
    "y_pred = gbm_tuned.predict(X_test)\n",
    "accuracy_score(y_test,y_pred)"
   ]
  },
  {
   "cell_type": "code",
   "execution_count": 120,
   "metadata": {},
   "outputs": [
    {
     "data": {
      "image/png": "[encoded data removed]",
      "text/plain": [
       "<Figure size 432x288 with 1 Axes>"
      ]
     },
     "metadata": {
      "needs_background": "light"
     },
     "output_type": "display_data"
    }
   ],
   "source": [
    "#değişken önem düzeyleri\n",
    "\n",
    "Importance = pd.DataFrame({\"Importance\":gbm_tuned.feature_importances_*100},index=X_train.columns)\n",
    "Importance.sort_values(by=\"Importance\",axis=0,ascending=True).plot(kind=\"barh\");\n",
    "plt.xlabel(\"Variable importance\")\n",
    "plt.gca().legend_=None"
   ]
  },
  {
   "cell_type": "markdown",
   "metadata": {},
   "source": [
    "## XGBoost"
   ]
  },
  {
   "cell_type": "markdown",
   "metadata": {},
   "source": [
    "### XGBoost Model ve Tahmin\n"
   ]
  },
  {
   "cell_type": "code",
   "execution_count": 121,
   "metadata": {},
   "outputs": [
    {
     "name": "stdout",
     "output_type": "stream",
     "text": [
      "Requirement already satisfied: xgboost in c:\\users\\feyza\\anaconda3\\lib\\site-packages (1.2.1)\n",
      "Requirement already satisfied: numpy in c:\\users\\feyza\\anaconda3\\lib\\site-packages (from xgboost) (1.18.1)\n",
      "Requirement already satisfied: scipy in c:\\users\\feyza\\anaconda3\\lib\\site-packages (from xgboost) (1.4.1)\n"
     ]
    }
   ],
   "source": [
    "!pip install xgboost"
   ]
  },
  {
   "cell_type": "code",
   "execution_count": 122,
   "metadata": {},
   "outputs": [],
   "source": [
    "from xgboost import XGBClassifier"
   ]
  },
  {
   "cell_type": "code",
   "execution_count": 123,
   "metadata": {},
   "outputs": [],
   "source": [
    "xgb_model = XGBClassifier().fit(X_train,y_train)"
   ]
  },
  {
   "cell_type": "code",
   "execution_count": 124,
   "metadata": {},
   "outputs": [
    {
     "data": {
      "text/plain": [
       "XGBClassifier(base_score=0.5, booster='gbtree', colsample_bylevel=1,\n",
       "              colsample_bynode=1, colsample_bytree=1, gamma=0, gpu_id=-1,\n",
       "              importance_type='gain', interaction_constraints='',\n",
       "              learning_rate=0.300000012, max_delta_step=0, max_depth=6,\n",
       "              min_child_weight=1, missing=nan, monotone_constraints='()',\n",
       "              n_estimators=100, n_jobs=0, num_parallel_tree=1,\n",
       "              objective='binary:logistic', random_state=0, reg_alpha=0,\n",
       "              reg_lambda=1, scale_pos_weight=1, subsample=1,\n",
       "              tree_method='exact', validate_parameters=1, verbosity=None)"
      ]
     },
     "execution_count": 124,
     "metadata": {},
     "output_type": "execute_result"
    }
   ],
   "source": [
    "xgb_model"
   ]
  },
  {
   "cell_type": "code",
   "execution_count": 125,
   "metadata": {},
   "outputs": [
    {
     "data": {
      "text/plain": [
       "0.7359307359307359"
      ]
     },
     "execution_count": 125,
     "metadata": {},
     "output_type": "execute_result"
    }
   ],
   "source": [
    "y_pred = xgb_model.predict(X_test)\n",
    "accuracy_score(y_test,y_pred)"
   ]
  },
  {
   "cell_type": "markdown",
   "metadata": {},
   "source": [
    "### XGBoost Model Tuning\n"
   ]
  },
  {
   "cell_type": "code",
   "execution_count": 126,
   "metadata": {},
   "outputs": [],
   "source": [
    "xgb = XGBClassifier()"
   ]
  },
  {
   "cell_type": "code",
   "execution_count": 127,
   "metadata": {},
   "outputs": [],
   "source": [
    "xgb_params = {\"n_estimators\":[100,500,1000],\n",
    "             \"subsample\":[0.6,0.8,1],\n",
    "             \"max_depth\":[3,5,8],\n",
    "             \"learning_rate\":[0.1,0.01,0.001]}"
   ]
  },
  {
   "cell_type": "code",
   "execution_count": 128,
   "metadata": {},
   "outputs": [
    {
     "name": "stdout",
     "output_type": "stream",
     "text": [
      "Fitting 10 folds for each of 81 candidates, totalling 810 fits\n"
     ]
    },
    {
     "name": "stderr",
     "output_type": "stream",
     "text": [
      "[Parallel(n_jobs=-1)]: Using backend LokyBackend with 4 concurrent workers.\n",
      "[Parallel(n_jobs=-1)]: Done  33 tasks      | elapsed:    7.8s\n",
      "[Parallel(n_jobs=-1)]: Done 154 tasks      | elapsed:   21.1s\n",
      "[Parallel(n_jobs=-1)]: Done 385 tasks      | elapsed:   47.6s\n",
      "[Parallel(n_jobs=-1)]: Done 692 tasks      | elapsed:  1.5min\n",
      "[Parallel(n_jobs=-1)]: Done 810 out of 810 | elapsed:  1.9min finished\n"
     ]
    }
   ],
   "source": [
    "xgb_cv_model = GridSearchCV(xgb,xgb_params,cv=10,n_jobs=-1,verbose=2).fit(X_train,y_train)"
   ]
  },
  {
   "cell_type": "code",
   "execution_count": 129,
   "metadata": {},
   "outputs": [
    {
     "data": {
      "text/plain": [
       "{'learning_rate': 0.001, 'max_depth': 8, 'n_estimators': 500, 'subsample': 0.6}"
      ]
     },
     "execution_count": 129,
     "metadata": {},
     "output_type": "execute_result"
    }
   ],
   "source": [
    "xgb_cv_model.best_params_"
   ]
  },
  {
   "cell_type": "code",
   "execution_count": 130,
   "metadata": {},
   "outputs": [],
   "source": [
    "xgb_tuned = XGBClassifier(n_estimators=500,subsample=0.6,max_depth=8,learning_rate=0.001).fit(X_train,y_train)"
   ]
  },
  {
   "cell_type": "code",
   "execution_count": 131,
   "metadata": {},
   "outputs": [
    {
     "data": {
      "text/plain": [
       "0.7575757575757576"
      ]
     },
     "execution_count": 131,
     "metadata": {},
     "output_type": "execute_result"
    }
   ],
   "source": [
    "y_pred = xgb_tuned.predict(X_test)\n",
    "accuracy_score(y_test,y_pred)"
   ]
  },
  {
   "cell_type": "code",
   "execution_count": 132,
   "metadata": {},
   "outputs": [
    {
     "data": {
      "image/png": "[encoded data removed]",
      "text/plain": [
       "<Figure size 432x288 with 1 Axes>"
      ]
     },
     "metadata": {
      "needs_background": "light"
     },
     "output_type": "display_data"
    }
   ],
   "source": [
    "#değişken önem düzeyleri\n",
    "\n",
    "Importance = pd.DataFrame({\"Importance\":xgb_tuned.feature_importances_*100},index=X_train.columns)\n",
    "Importance.sort_values(by=\"Importance\",axis=0,ascending=True).plot(kind=\"barh\");\n",
    "plt.xlabel(\"Variable importance\")\n",
    "plt.gca().legend_=None"
   ]
  },
  {
   "cell_type": "markdown",
   "metadata": {},
   "source": [
    "## Light GBM\n"
   ]
  },
  {
   "cell_type": "markdown",
   "metadata": {},
   "source": [
    "### Light GBM Model ve Tahmin\n"
   ]
  },
  {
   "cell_type": "raw",
   "metadata": {},
   "source": [
    "!pip install lightgbm"
   ]
  },
  {
   "cell_type": "code",
   "execution_count": 135,
   "metadata": {},
   "outputs": [],
   "source": [
    "from lightgbm import LGBMClassifier"
   ]
  },
  {
   "cell_type": "code",
   "execution_count": 136,
   "metadata": {},
   "outputs": [],
   "source": [
    "lgbm_model = LGBMClassifier().fit(X_train,y_train)"
   ]
  },
  {
   "cell_type": "code",
   "execution_count": 137,
   "metadata": {},
   "outputs": [
    {
     "data": {
      "text/plain": [
       "LGBMClassifier(boosting_type='gbdt', class_weight=None, colsample_bytree=1.0,\n",
       "               importance_type='split', learning_rate=0.1, max_depth=-1,\n",
       "               min_child_samples=20, min_child_weight=0.001, min_split_gain=0.0,\n",
       "               n_estimators=100, n_jobs=-1, num_leaves=31, objective=None,\n",
       "               random_state=None, reg_alpha=0.0, reg_lambda=0.0, silent=True,\n",
       "               subsample=1.0, subsample_for_bin=200000, subsample_freq=0)"
      ]
     },
     "execution_count": 137,
     "metadata": {},
     "output_type": "execute_result"
    }
   ],
   "source": [
    "lgbm_model"
   ]
  },
  {
   "cell_type": "code",
   "execution_count": 138,
   "metadata": {},
   "outputs": [
    {
     "data": {
      "text/plain": [
       "0.7229437229437229"
      ]
     },
     "execution_count": 138,
     "metadata": {},
     "output_type": "execute_result"
    }
   ],
   "source": [
    "y_pred = lgbm_model.predict(X_test)\n",
    "accuracy_score(y_test,y_pred)"
   ]
  },
  {
   "cell_type": "markdown",
   "metadata": {},
   "source": [
    "### Light GBM Model Tuning\n"
   ]
  },
  {
   "cell_type": "code",
   "execution_count": 139,
   "metadata": {},
   "outputs": [],
   "source": [
    "lgbm = LGBMClassifier()"
   ]
  },
  {
   "cell_type": "code",
   "execution_count": 140,
   "metadata": {},
   "outputs": [],
   "source": [
    "lgbm_params = {\"learning_rate\":[0.1,0.01,0.001],\n",
    "              \"n_estimators\":[100,200,500],\n",
    "              \"max_depth\":[1,2,35,8]}"
   ]
  },
  {
   "cell_type": "code",
   "execution_count": 141,
   "metadata": {},
   "outputs": [
    {
     "name": "stdout",
     "output_type": "stream",
     "text": [
      "Fitting 10 folds for each of 36 candidates, totalling 360 fits\n"
     ]
    },
    {
     "name": "stderr",
     "output_type": "stream",
     "text": [
      "[Parallel(n_jobs=-1)]: Using backend LokyBackend with 4 concurrent workers.\n",
      "[Parallel(n_jobs=-1)]: Done  33 tasks      | elapsed:    3.9s\n",
      "[Parallel(n_jobs=-1)]: Done 268 tasks      | elapsed:   14.4s\n",
      "[Parallel(n_jobs=-1)]: Done 360 out of 360 | elapsed:   19.5s finished\n"
     ]
    }
   ],
   "source": [
    "lgbm_cv_model = GridSearchCV(lgbm,lgbm_params,cv=10,n_jobs=-1,verbose=2).fit(X_train,y_train)"
   ]
  },
  {
   "cell_type": "code",
   "execution_count": 142,
   "metadata": {},
   "outputs": [
    {
     "data": {
      "text/plain": [
       "{'learning_rate': 0.01, 'max_depth': 1, 'n_estimators': 500}"
      ]
     },
     "execution_count": 142,
     "metadata": {},
     "output_type": "execute_result"
    }
   ],
   "source": [
    "lgbm_cv_model.best_params_"
   ]
  },
  {
   "cell_type": "code",
   "execution_count": 143,
   "metadata": {},
   "outputs": [],
   "source": [
    "lgbm_tuned = LGBMClassifier(learning_rate= 0.01, max_depth= 1, n_estimators= 500).fit(X_train,y_train)"
   ]
  },
  {
   "cell_type": "code",
   "execution_count": 144,
   "metadata": {},
   "outputs": [
    {
     "data": {
      "text/plain": [
       "0.7575757575757576"
      ]
     },
     "execution_count": 144,
     "metadata": {},
     "output_type": "execute_result"
    }
   ],
   "source": [
    "y_pred = lgbm_tuned.predict(X_test)\n",
    "accuracy_score(y_test,y_pred)"
   ]
  },
  {
   "cell_type": "code",
   "execution_count": 145,
   "metadata": {},
   "outputs": [
    {
     "data": {
      "image/png": "[encoded data removed]",
      "text/plain": [
       "<Figure size 432x288 with 1 Axes>"
      ]
     },
     "metadata": {
      "needs_background": "light"
     },
     "output_type": "display_data"
    }
   ],
   "source": [
    "#değişken önem düzeyleri\n",
    "\n",
    "Importance = pd.DataFrame({\"Importance\":lgbm_tuned.feature_importances_*100},index=X_train.columns)\n",
    "Importance.sort_values(by=\"Importance\",axis=0,ascending=True).plot(kind=\"barh\");\n",
    "plt.xlabel(\"Variable importance\")\n",
    "plt.gca().legend_=None"
   ]
  },
  {
   "cell_type": "markdown",
   "metadata": {},
   "source": [
    "## CatBoost "
   ]
  },
  {
   "cell_type": "markdown",
   "metadata": {},
   "source": [
    "### CatBoost Model ve Tahmin\n"
   ]
  },
  {
   "cell_type": "code",
   "execution_count": 146,
   "metadata": {},
   "outputs": [
    {
     "name": "stdout",
     "output_type": "stream",
     "text": [
      "Requirement already satisfied: catboost in c:\\users\\feyza\\anaconda3\\lib\\site-packages (0.24.3)\n",
      "Requirement already satisfied: numpy>=1.16.0 in c:\\users\\feyza\\anaconda3\\lib\\site-packages (from catboost) (1.18.1)\n",
      "Requirement already satisfied: plotly in c:\\users\\feyza\\anaconda3\\lib\\site-packages (from catboost) (4.13.0)\n",
      "Requirement already satisfied: pandas>=0.24.0 in c:\\users\\feyza\\anaconda3\\lib\\site-packages (from catboost) (1.0.1)\n",
      "Requirement already satisfied: scipy in c:\\users\\feyza\\anaconda3\\lib\\site-packages (from catboost) (1.4.1)\n",
      "Requirement already satisfied: six in c:\\users\\feyza\\anaconda3\\lib\\site-packages (from catboost) (1.14.0)\n",
      "Requirement already satisfied: matplotlib in c:\\users\\feyza\\anaconda3\\lib\\site-packages (from catboost) (3.1.3)\n",
      "Requirement already satisfied: graphviz in c:\\users\\feyza\\anaconda3\\lib\\site-packages (from catboost) (0.15)\n",
      "Requirement already satisfied: retrying>=1.3.3 in c:\\users\\feyza\\anaconda3\\lib\\site-packages (from plotly->catboost) (1.3.3)\n",
      "Requirement already satisfied: python-dateutil>=2.6.1 in c:\\users\\feyza\\anaconda3\\lib\\site-packages (from pandas>=0.24.0->catboost) (2.8.1)\n",
      "Requirement already satisfied: pytz>=2017.2 in c:\\users\\feyza\\anaconda3\\lib\\site-packages (from pandas>=0.24.0->catboost) (2019.3)\n",
      "Requirement already satisfied: cycler>=0.10 in c:\\users\\feyza\\anaconda3\\lib\\site-packages (from matplotlib->catboost) (0.10.0)\n",
      "Requirement already satisfied: kiwisolver>=1.0.1 in c:\\users\\feyza\\anaconda3\\lib\\site-packages (from matplotlib->catboost) (1.1.0)\n",
      "Requirement already satisfied: pyparsing!=2.0.4,!=2.1.2,!=2.1.6,>=2.0.1 in c:\\users\\feyza\\anaconda3\\lib\\site-packages (from matplotlib->catboost) (2.4.6)\n",
      "Requirement already satisfied: setuptools in c:\\users\\feyza\\anaconda3\\lib\\site-packages (from kiwisolver>=1.0.1->matplotlib->catboost) (45.2.0.post20200210)\n"
     ]
    }
   ],
   "source": [
    "!pip install catboost"
   ]
  },
  {
   "cell_type": "code",
   "execution_count": 147,
   "metadata": {},
   "outputs": [],
   "source": [
    "from catboost import CatBoostClassifier"
   ]
  },
  {
   "cell_type": "code",
   "execution_count": 148,
   "metadata": {},
   "outputs": [],
   "source": [
    "catb_model = CatBoostClassifier().fit(X_train,y_train,verbose=False)"
   ]
  },
  {
   "cell_type": "code",
   "execution_count": 151,
   "metadata": {},
   "outputs": [
    {
     "data": {
      "text/plain": [
       "\u001b[1;31mType:\u001b[0m            CatBoostClassifier\n",
       "\u001b[1;31mString form:\u001b[0m     <catboost.core.CatBoostClassifier object at 0x0000025DCB385FC8>\n",
       "\u001b[1;31mFile:\u001b[0m            c:\\users\\feyza\\anaconda3\\lib\\site-packages\\catboost\\core.py\n",
       "\u001b[1;31mDocstring:\u001b[0m       <no docstring>\n",
       "\u001b[1;31mClass docstring:\u001b[0m CatBoost model. Contains training, prediction and evaluation methods.\n",
       "\u001b[1;31mInit docstring:\u001b[0m \n",
       "Initialize the CatBoost.\n",
       "\n",
       "Parameters\n",
       "----------\n",
       "params : dict\n",
       "    Parameters for CatBoost.\n",
       "    If  None, all params are set to their defaults.\n",
       "    If  dict, overriding parameters present in dict.\n"
      ]
     },
     "metadata": {},
     "output_type": "display_data"
    }
   ],
   "source": [
    "?catb_model"
   ]
  },
  {
   "cell_type": "code",
   "execution_count": 149,
   "metadata": {},
   "outputs": [
    {
     "data": {
      "text/plain": [
       "0.7402597402597403"
      ]
     },
     "execution_count": 149,
     "metadata": {},
     "output_type": "execute_result"
    }
   ],
   "source": [
    "y_pred = catb_model.predict(X_test)\n",
    "accuracy_score(y_test,y_pred)"
   ]
  },
  {
   "cell_type": "markdown",
   "metadata": {},
   "source": [
    "### CatBoost Model Tuning\n"
   ]
  },
  {
   "cell_type": "code",
   "execution_count": 152,
   "metadata": {},
   "outputs": [],
   "source": [
    "catb = CatBoostClassifier()"
   ]
  },
  {
   "cell_type": "code",
   "execution_count": 153,
   "metadata": {},
   "outputs": [],
   "source": [
    "catb_params = {\"iterations\":[200,500,1000],\n",
    "              \"learning_rate\":[0.1,0.3,0.01],\n",
    "              \"depth\":[4,6,8]}"
   ]
  },
  {
   "cell_type": "code",
   "execution_count": 155,
   "metadata": {
    "collapsed": true,
    "jupyter": {
     "outputs_hidden": true
    }
   },
   "outputs": [
    {
     "name": "stdout",
     "output_type": "stream",
     "text": [
      "Fitting 10 folds for each of 27 candidates, totalling 270 fits\n"
     ]
    },
    {
     "name": "stderr",
     "output_type": "stream",
     "text": [
      "[Parallel(n_jobs=-1)]: Using backend LokyBackend with 4 concurrent workers.\n",
      "[Parallel(n_jobs=-1)]: Done  33 tasks      | elapsed:   22.4s\n",
      "[Parallel(n_jobs=-1)]: Done 154 tasks      | elapsed:  2.3min\n",
      "[Parallel(n_jobs=-1)]: Done 270 out of 270 | elapsed:  7.2min finished\n"
     ]
    },
    {
     "name": "stdout",
     "output_type": "stream",
     "text": [
      "0:\tlearn: 0.6863412\ttotal: 7.36ms\tremaining: 1.47s\n",
      "1:\tlearn: 0.6811322\ttotal: 12.1ms\tremaining: 1.2s\n",
      "2:\tlearn: 0.6753199\ttotal: 18ms\tremaining: 1.18s\n",
      "3:\tlearn: 0.6697717\ttotal: 22.9ms\tremaining: 1.12s\n",
      "4:\tlearn: 0.6642090\ttotal: 28.3ms\tremaining: 1.1s\n",
      "5:\tlearn: 0.6577038\ttotal: 35.5ms\tremaining: 1.15s\n",
      "6:\tlearn: 0.6522290\ttotal: 41.7ms\tremaining: 1.15s\n",
      "7:\tlearn: 0.6466015\ttotal: 48.4ms\tremaining: 1.16s\n",
      "8:\tlearn: 0.6408068\ttotal: 54.3ms\tremaining: 1.15s\n",
      "9:\tlearn: 0.6358218\ttotal: 60ms\tremaining: 1.14s\n",
      "10:\tlearn: 0.6300444\ttotal: 67.1ms\tremaining: 1.15s\n",
      "11:\tlearn: 0.6240992\ttotal: 73.9ms\tremaining: 1.16s\n",
      "12:\tlearn: 0.6196618\ttotal: 81.3ms\tremaining: 1.17s\n",
      "13:\tlearn: 0.6149237\ttotal: 87.8ms\tremaining: 1.17s\n",
      "14:\tlearn: 0.6093146\ttotal: 95.4ms\tremaining: 1.18s\n",
      "15:\tlearn: 0.6047282\ttotal: 100ms\tremaining: 1.15s\n",
      "16:\tlearn: 0.6013242\ttotal: 105ms\tremaining: 1.13s\n",
      "17:\tlearn: 0.5958624\ttotal: 111ms\tremaining: 1.13s\n",
      "18:\tlearn: 0.5903733\ttotal: 116ms\tremaining: 1.11s\n",
      "19:\tlearn: 0.5866505\ttotal: 121ms\tremaining: 1.09s\n",
      "20:\tlearn: 0.5831865\ttotal: 127ms\tremaining: 1.08s\n",
      "21:\tlearn: 0.5787839\ttotal: 132ms\tremaining: 1.06s\n",
      "22:\tlearn: 0.5749453\ttotal: 137ms\tremaining: 1.05s\n",
      "23:\tlearn: 0.5703621\ttotal: 142ms\tremaining: 1.04s\n",
      "24:\tlearn: 0.5662773\ttotal: 147ms\tremaining: 1.03s\n",
      "25:\tlearn: 0.5629069\ttotal: 152ms\tremaining: 1.01s\n",
      "26:\tlearn: 0.5589454\ttotal: 157ms\tremaining: 1s\n",
      "27:\tlearn: 0.5544253\ttotal: 161ms\tremaining: 991ms\n",
      "28:\tlearn: 0.5504193\ttotal: 167ms\tremaining: 984ms\n",
      "29:\tlearn: 0.5470888\ttotal: 173ms\tremaining: 978ms\n",
      "30:\tlearn: 0.5441572\ttotal: 177ms\tremaining: 967ms\n",
      "31:\tlearn: 0.5396568\ttotal: 182ms\tremaining: 958ms\n",
      "32:\tlearn: 0.5356520\ttotal: 187ms\tremaining: 948ms\n",
      "33:\tlearn: 0.5315662\ttotal: 193ms\tremaining: 944ms\n",
      "34:\tlearn: 0.5280107\ttotal: 198ms\tremaining: 935ms\n",
      "35:\tlearn: 0.5248634\ttotal: 204ms\tremaining: 928ms\n",
      "36:\tlearn: 0.5224134\ttotal: 209ms\tremaining: 920ms\n",
      "37:\tlearn: 0.5198514\ttotal: 214ms\tremaining: 914ms\n",
      "38:\tlearn: 0.5167668\ttotal: 219ms\tremaining: 905ms\n",
      "39:\tlearn: 0.5139063\ttotal: 224ms\tremaining: 896ms\n",
      "40:\tlearn: 0.5101721\ttotal: 229ms\tremaining: 889ms\n",
      "41:\tlearn: 0.5066326\ttotal: 234ms\tremaining: 881ms\n",
      "42:\tlearn: 0.5033936\ttotal: 239ms\tremaining: 873ms\n",
      "43:\tlearn: 0.5006117\ttotal: 244ms\tremaining: 867ms\n",
      "44:\tlearn: 0.4980917\ttotal: 250ms\tremaining: 859ms\n",
      "45:\tlearn: 0.4959463\ttotal: 255ms\tremaining: 852ms\n",
      "46:\tlearn: 0.4934198\ttotal: 260ms\tremaining: 846ms\n",
      "47:\tlearn: 0.4906410\ttotal: 265ms\tremaining: 839ms\n",
      "48:\tlearn: 0.4878576\ttotal: 270ms\tremaining: 833ms\n",
      "49:\tlearn: 0.4850977\ttotal: 276ms\tremaining: 827ms\n",
      "50:\tlearn: 0.4826157\ttotal: 280ms\tremaining: 819ms\n",
      "51:\tlearn: 0.4798530\ttotal: 285ms\tremaining: 812ms\n",
      "52:\tlearn: 0.4776349\ttotal: 290ms\tremaining: 805ms\n",
      "53:\tlearn: 0.4754652\ttotal: 295ms\tremaining: 798ms\n",
      "54:\tlearn: 0.4733755\ttotal: 300ms\tremaining: 791ms\n",
      "55:\tlearn: 0.4706337\ttotal: 306ms\tremaining: 786ms\n",
      "56:\tlearn: 0.4677619\ttotal: 359ms\tremaining: 900ms\n",
      "57:\tlearn: 0.4657008\ttotal: 369ms\tremaining: 903ms\n",
      "58:\tlearn: 0.4637682\ttotal: 376ms\tremaining: 898ms\n",
      "59:\tlearn: 0.4615518\ttotal: 382ms\tremaining: 892ms\n",
      "60:\tlearn: 0.4600032\ttotal: 389ms\tremaining: 886ms\n",
      "61:\tlearn: 0.4584260\ttotal: 391ms\tremaining: 871ms\n",
      "62:\tlearn: 0.4567343\ttotal: 397ms\tremaining: 864ms\n",
      "63:\tlearn: 0.4541223\ttotal: 402ms\tremaining: 854ms\n",
      "64:\tlearn: 0.4530108\ttotal: 404ms\tremaining: 838ms\n",
      "65:\tlearn: 0.4512377\ttotal: 409ms\tremaining: 831ms\n",
      "66:\tlearn: 0.4487025\ttotal: 414ms\tremaining: 822ms\n",
      "67:\tlearn: 0.4468152\ttotal: 420ms\tremaining: 815ms\n",
      "68:\tlearn: 0.4449902\ttotal: 427ms\tremaining: 810ms\n",
      "69:\tlearn: 0.4426412\ttotal: 432ms\tremaining: 802ms\n",
      "70:\tlearn: 0.4401906\ttotal: 438ms\tremaining: 797ms\n",
      "71:\tlearn: 0.4380992\ttotal: 443ms\tremaining: 788ms\n",
      "72:\tlearn: 0.4367450\ttotal: 448ms\tremaining: 780ms\n",
      "73:\tlearn: 0.4353520\ttotal: 454ms\tremaining: 773ms\n",
      "74:\tlearn: 0.4340243\ttotal: 459ms\tremaining: 765ms\n",
      "75:\tlearn: 0.4315947\ttotal: 464ms\tremaining: 758ms\n",
      "76:\tlearn: 0.4298990\ttotal: 470ms\tremaining: 750ms\n",
      "77:\tlearn: 0.4285587\ttotal: 475ms\tremaining: 742ms\n",
      "78:\tlearn: 0.4266109\ttotal: 479ms\tremaining: 734ms\n",
      "79:\tlearn: 0.4244339\ttotal: 485ms\tremaining: 727ms\n",
      "80:\tlearn: 0.4228679\ttotal: 489ms\tremaining: 719ms\n",
      "81:\tlearn: 0.4214531\ttotal: 497ms\tremaining: 715ms\n",
      "82:\tlearn: 0.4200925\ttotal: 513ms\tremaining: 723ms\n",
      "83:\tlearn: 0.4184640\ttotal: 519ms\tremaining: 717ms\n",
      "84:\tlearn: 0.4168303\ttotal: 525ms\tremaining: 710ms\n",
      "85:\tlearn: 0.4156724\ttotal: 532ms\tremaining: 705ms\n",
      "86:\tlearn: 0.4140974\ttotal: 537ms\tremaining: 698ms\n",
      "87:\tlearn: 0.4124542\ttotal: 544ms\tremaining: 693ms\n",
      "88:\tlearn: 0.4107650\ttotal: 549ms\tremaining: 685ms\n",
      "89:\tlearn: 0.4091247\ttotal: 554ms\tremaining: 677ms\n",
      "90:\tlearn: 0.4075743\ttotal: 560ms\tremaining: 671ms\n",
      "91:\tlearn: 0.4062728\ttotal: 565ms\tremaining: 663ms\n",
      "92:\tlearn: 0.4044987\ttotal: 570ms\tremaining: 656ms\n",
      "93:\tlearn: 0.4030509\ttotal: 575ms\tremaining: 649ms\n",
      "94:\tlearn: 0.4012366\ttotal: 581ms\tremaining: 642ms\n",
      "95:\tlearn: 0.3995010\ttotal: 587ms\tremaining: 636ms\n",
      "96:\tlearn: 0.3983567\ttotal: 592ms\tremaining: 629ms\n",
      "97:\tlearn: 0.3970163\ttotal: 597ms\tremaining: 622ms\n",
      "98:\tlearn: 0.3955954\ttotal: 602ms\tremaining: 614ms\n",
      "99:\tlearn: 0.3946458\ttotal: 607ms\tremaining: 607ms\n",
      "100:\tlearn: 0.3932682\ttotal: 612ms\tremaining: 600ms\n",
      "101:\tlearn: 0.3921086\ttotal: 617ms\tremaining: 593ms\n",
      "102:\tlearn: 0.3912041\ttotal: 622ms\tremaining: 585ms\n",
      "103:\tlearn: 0.3896085\ttotal: 628ms\tremaining: 580ms\n",
      "104:\tlearn: 0.3881310\ttotal: 636ms\tremaining: 576ms\n",
      "105:\tlearn: 0.3867841\ttotal: 642ms\tremaining: 570ms\n",
      "106:\tlearn: 0.3855611\ttotal: 648ms\tremaining: 563ms\n",
      "107:\tlearn: 0.3841345\ttotal: 653ms\tremaining: 556ms\n",
      "108:\tlearn: 0.3829608\ttotal: 658ms\tremaining: 550ms\n",
      "109:\tlearn: 0.3819127\ttotal: 664ms\tremaining: 543ms\n",
      "110:\tlearn: 0.3810000\ttotal: 669ms\tremaining: 536ms\n",
      "111:\tlearn: 0.3790356\ttotal: 674ms\tremaining: 530ms\n",
      "112:\tlearn: 0.3774673\ttotal: 680ms\tremaining: 523ms\n",
      "113:\tlearn: 0.3762712\ttotal: 685ms\tremaining: 517ms\n",
      "114:\tlearn: 0.3750760\ttotal: 691ms\tremaining: 511ms\n",
      "115:\tlearn: 0.3735547\ttotal: 698ms\tremaining: 505ms\n",
      "116:\tlearn: 0.3728015\ttotal: 703ms\tremaining: 499ms\n",
      "117:\tlearn: 0.3714192\ttotal: 708ms\tremaining: 492ms\n",
      "118:\tlearn: 0.3705935\ttotal: 713ms\tremaining: 485ms\n",
      "119:\tlearn: 0.3694736\ttotal: 718ms\tremaining: 479ms\n",
      "120:\tlearn: 0.3687791\ttotal: 725ms\tremaining: 473ms\n",
      "121:\tlearn: 0.3679782\ttotal: 730ms\tremaining: 467ms\n",
      "122:\tlearn: 0.3666547\ttotal: 736ms\tremaining: 461ms\n",
      "123:\tlearn: 0.3655144\ttotal: 743ms\tremaining: 455ms\n",
      "124:\tlearn: 0.3643546\ttotal: 748ms\tremaining: 449ms\n",
      "125:\tlearn: 0.3636557\ttotal: 761ms\tremaining: 447ms\n",
      "126:\tlearn: 0.3625550\ttotal: 770ms\tremaining: 443ms\n",
      "127:\tlearn: 0.3610147\ttotal: 778ms\tremaining: 437ms\n",
      "128:\tlearn: 0.3596348\ttotal: 787ms\tremaining: 433ms\n",
      "129:\tlearn: 0.3584074\ttotal: 793ms\tremaining: 427ms\n",
      "130:\tlearn: 0.3569602\ttotal: 799ms\tremaining: 421ms\n",
      "131:\tlearn: 0.3558913\ttotal: 806ms\tremaining: 415ms\n",
      "132:\tlearn: 0.3548689\ttotal: 812ms\tremaining: 409ms\n",
      "133:\tlearn: 0.3533837\ttotal: 822ms\tremaining: 405ms\n",
      "134:\tlearn: 0.3524619\ttotal: 827ms\tremaining: 398ms\n",
      "135:\tlearn: 0.3518338\ttotal: 836ms\tremaining: 394ms\n",
      "136:\tlearn: 0.3505366\ttotal: 841ms\tremaining: 387ms\n",
      "137:\tlearn: 0.3497723\ttotal: 847ms\tremaining: 380ms\n",
      "138:\tlearn: 0.3489030\ttotal: 852ms\tremaining: 374ms\n",
      "139:\tlearn: 0.3482652\ttotal: 857ms\tremaining: 367ms\n",
      "140:\tlearn: 0.3471165\ttotal: 864ms\tremaining: 361ms\n",
      "141:\tlearn: 0.3458630\ttotal: 868ms\tremaining: 355ms\n",
      "142:\tlearn: 0.3445867\ttotal: 875ms\tremaining: 349ms\n",
      "143:\tlearn: 0.3436773\ttotal: 881ms\tremaining: 342ms\n",
      "144:\tlearn: 0.3426979\ttotal: 887ms\tremaining: 336ms\n",
      "145:\tlearn: 0.3417627\ttotal: 895ms\tremaining: 331ms\n",
      "146:\tlearn: 0.3407937\ttotal: 900ms\tremaining: 325ms\n",
      "147:\tlearn: 0.3398191\ttotal: 907ms\tremaining: 319ms\n",
      "148:\tlearn: 0.3390524\ttotal: 911ms\tremaining: 312ms\n",
      "149:\tlearn: 0.3381671\ttotal: 916ms\tremaining: 305ms\n",
      "150:\tlearn: 0.3375138\ttotal: 921ms\tremaining: 299ms\n",
      "151:\tlearn: 0.3365898\ttotal: 926ms\tremaining: 292ms\n",
      "152:\tlearn: 0.3358887\ttotal: 931ms\tremaining: 286ms\n",
      "153:\tlearn: 0.3346492\ttotal: 937ms\tremaining: 280ms\n",
      "154:\tlearn: 0.3336018\ttotal: 942ms\tremaining: 273ms\n",
      "155:\tlearn: 0.3330832\ttotal: 947ms\tremaining: 267ms\n",
      "156:\tlearn: 0.3324238\ttotal: 954ms\tremaining: 261ms\n",
      "157:\tlearn: 0.3312569\ttotal: 960ms\tremaining: 255ms\n",
      "158:\tlearn: 0.3299834\ttotal: 964ms\tremaining: 249ms\n",
      "159:\tlearn: 0.3286908\ttotal: 970ms\tremaining: 243ms\n",
      "160:\tlearn: 0.3276277\ttotal: 975ms\tremaining: 236ms\n",
      "161:\tlearn: 0.3267134\ttotal: 980ms\tremaining: 230ms\n",
      "162:\tlearn: 0.3259380\ttotal: 985ms\tremaining: 224ms\n",
      "163:\tlearn: 0.3249529\ttotal: 991ms\tremaining: 217ms\n",
      "164:\tlearn: 0.3241876\ttotal: 1s\tremaining: 212ms\n",
      "165:\tlearn: 0.3237797\ttotal: 1.01s\tremaining: 206ms\n",
      "166:\tlearn: 0.3228611\ttotal: 1.02s\tremaining: 201ms\n",
      "167:\tlearn: 0.3218481\ttotal: 1.02s\tremaining: 195ms\n",
      "168:\tlearn: 0.3209571\ttotal: 1.03s\tremaining: 189ms\n",
      "169:\tlearn: 0.3200492\ttotal: 1.04s\tremaining: 183ms\n",
      "170:\tlearn: 0.3189373\ttotal: 1.04s\tremaining: 177ms\n",
      "171:\tlearn: 0.3179033\ttotal: 1.05s\tremaining: 170ms\n",
      "172:\tlearn: 0.3172849\ttotal: 1.05s\tremaining: 164ms\n",
      "173:\tlearn: 0.3166655\ttotal: 1.05s\tremaining: 158ms\n",
      "174:\tlearn: 0.3157718\ttotal: 1.06s\tremaining: 152ms\n",
      "175:\tlearn: 0.3150160\ttotal: 1.06s\tremaining: 145ms\n",
      "176:\tlearn: 0.3142830\ttotal: 1.07s\tremaining: 139ms\n",
      "177:\tlearn: 0.3138662\ttotal: 1.08s\tremaining: 133ms\n",
      "178:\tlearn: 0.3133629\ttotal: 1.08s\tremaining: 127ms\n",
      "179:\tlearn: 0.3125061\ttotal: 1.09s\tremaining: 121ms\n",
      "180:\tlearn: 0.3115252\ttotal: 1.09s\tremaining: 115ms\n",
      "181:\tlearn: 0.3110208\ttotal: 1.1s\tremaining: 109ms\n",
      "182:\tlearn: 0.3105547\ttotal: 1.1s\tremaining: 103ms\n",
      "183:\tlearn: 0.3094534\ttotal: 1.11s\tremaining: 96.5ms\n",
      "184:\tlearn: 0.3087456\ttotal: 1.11s\tremaining: 90.4ms\n",
      "185:\tlearn: 0.3079835\ttotal: 1.12s\tremaining: 84.3ms\n",
      "186:\tlearn: 0.3072245\ttotal: 1.13s\tremaining: 78.2ms\n",
      "187:\tlearn: 0.3061540\ttotal: 1.13s\tremaining: 72.2ms\n",
      "188:\tlearn: 0.3054721\ttotal: 1.14s\tremaining: 66.1ms\n",
      "189:\tlearn: 0.3048467\ttotal: 1.14s\tremaining: 60.1ms\n",
      "190:\tlearn: 0.3042662\ttotal: 1.15s\tremaining: 54.1ms\n",
      "191:\tlearn: 0.3037025\ttotal: 1.15s\tremaining: 48ms\n",
      "192:\tlearn: 0.3028928\ttotal: 1.16s\tremaining: 42ms\n",
      "193:\tlearn: 0.3020155\ttotal: 1.17s\tremaining: 36ms\n",
      "194:\tlearn: 0.3010007\ttotal: 1.17s\tremaining: 30.1ms\n",
      "195:\tlearn: 0.3002253\ttotal: 1.18s\tremaining: 24.1ms\n",
      "196:\tlearn: 0.2999682\ttotal: 1.18s\tremaining: 18ms\n",
      "197:\tlearn: 0.2994228\ttotal: 1.19s\tremaining: 12ms\n",
      "198:\tlearn: 0.2986712\ttotal: 1.19s\tremaining: 5.99ms\n",
      "199:\tlearn: 0.2980459\ttotal: 1.2s\tremaining: 0us\n"
     ]
    }
   ],
   "source": [
    "catb_cv_model = GridSearchCV(catb,catb_params,cv=10,n_jobs=-1,verbose=2).fit(X_train,y_train)"
   ]
  },
  {
   "cell_type": "code",
   "execution_count": 156,
   "metadata": {},
   "outputs": [
    {
     "data": {
      "text/plain": [
       "{'depth': 8, 'iterations': 200, 'learning_rate': 0.01}"
      ]
     },
     "execution_count": 156,
     "metadata": {},
     "output_type": "execute_result"
    }
   ],
   "source": [
    "catb_cv_model.best_params_"
   ]
  },
  {
   "cell_type": "code",
   "execution_count": 157,
   "metadata": {
    "collapsed": true,
    "jupyter": {
     "outputs_hidden": true
    }
   },
   "outputs": [
    {
     "name": "stdout",
     "output_type": "stream",
     "text": [
      "0:\tlearn: 0.6730562\ttotal: 5.14ms\tremaining: 1.02s\n",
      "1:\tlearn: 0.6583303\ttotal: 9.9ms\tremaining: 980ms\n",
      "2:\tlearn: 0.6413852\ttotal: 14.8ms\tremaining: 972ms\n",
      "3:\tlearn: 0.6268405\ttotal: 19.6ms\tremaining: 960ms\n",
      "4:\tlearn: 0.6150883\ttotal: 24.5ms\tremaining: 954ms\n",
      "5:\tlearn: 0.5989093\ttotal: 29.2ms\tremaining: 944ms\n",
      "6:\tlearn: 0.5861303\ttotal: 34.1ms\tremaining: 941ms\n",
      "7:\tlearn: 0.5735117\ttotal: 39.1ms\tremaining: 939ms\n",
      "8:\tlearn: 0.5616370\ttotal: 43.9ms\tremaining: 932ms\n",
      "9:\tlearn: 0.5507706\ttotal: 49ms\tremaining: 931ms\n",
      "10:\tlearn: 0.5388394\ttotal: 54.1ms\tremaining: 929ms\n",
      "11:\tlearn: 0.5264516\ttotal: 58.9ms\tremaining: 922ms\n",
      "12:\tlearn: 0.5191660\ttotal: 63.9ms\tremaining: 920ms\n",
      "13:\tlearn: 0.5104459\ttotal: 68.9ms\tremaining: 916ms\n",
      "14:\tlearn: 0.5017018\ttotal: 73.7ms\tremaining: 909ms\n",
      "15:\tlearn: 0.4954928\ttotal: 78.5ms\tremaining: 902ms\n",
      "16:\tlearn: 0.4896817\ttotal: 83.2ms\tremaining: 896ms\n",
      "17:\tlearn: 0.4808546\ttotal: 87.9ms\tremaining: 889ms\n",
      "18:\tlearn: 0.4724010\ttotal: 92.7ms\tremaining: 883ms\n",
      "19:\tlearn: 0.4657244\ttotal: 97.5ms\tremaining: 877ms\n",
      "20:\tlearn: 0.4613432\ttotal: 102ms\tremaining: 872ms\n",
      "21:\tlearn: 0.4537068\ttotal: 107ms\tremaining: 870ms\n",
      "22:\tlearn: 0.4488883\ttotal: 113ms\tremaining: 873ms\n",
      "23:\tlearn: 0.4438466\ttotal: 120ms\tremaining: 883ms\n",
      "24:\tlearn: 0.4372028\ttotal: 127ms\tremaining: 889ms\n",
      "25:\tlearn: 0.4327993\ttotal: 132ms\tremaining: 881ms\n",
      "26:\tlearn: 0.4274812\ttotal: 137ms\tremaining: 875ms\n",
      "27:\tlearn: 0.4215002\ttotal: 142ms\tremaining: 873ms\n",
      "28:\tlearn: 0.4161126\ttotal: 147ms\tremaining: 866ms\n",
      "29:\tlearn: 0.4116830\ttotal: 152ms\tremaining: 861ms\n",
      "30:\tlearn: 0.4074000\ttotal: 157ms\tremaining: 854ms\n",
      "31:\tlearn: 0.4012367\ttotal: 161ms\tremaining: 847ms\n",
      "32:\tlearn: 0.3971203\ttotal: 169ms\tremaining: 853ms\n",
      "33:\tlearn: 0.3909248\ttotal: 175ms\tremaining: 855ms\n",
      "34:\tlearn: 0.3868997\ttotal: 181ms\tremaining: 852ms\n",
      "35:\tlearn: 0.3836984\ttotal: 187ms\tremaining: 850ms\n",
      "36:\tlearn: 0.3800295\ttotal: 192ms\tremaining: 846ms\n",
      "37:\tlearn: 0.3768893\ttotal: 197ms\tremaining: 840ms\n",
      "38:\tlearn: 0.3726886\ttotal: 202ms\tremaining: 833ms\n",
      "39:\tlearn: 0.3692111\ttotal: 207ms\tremaining: 827ms\n",
      "40:\tlearn: 0.3656284\ttotal: 212ms\tremaining: 822ms\n",
      "41:\tlearn: 0.3617278\ttotal: 217ms\tremaining: 816ms\n",
      "42:\tlearn: 0.3580843\ttotal: 222ms\tremaining: 809ms\n",
      "43:\tlearn: 0.3556401\ttotal: 227ms\tremaining: 803ms\n",
      "44:\tlearn: 0.3520825\ttotal: 232ms\tremaining: 798ms\n",
      "45:\tlearn: 0.3493779\ttotal: 237ms\tremaining: 792ms\n",
      "46:\tlearn: 0.3456837\ttotal: 242ms\tremaining: 787ms\n",
      "47:\tlearn: 0.3432794\ttotal: 247ms\tremaining: 783ms\n",
      "48:\tlearn: 0.3401259\ttotal: 253ms\tremaining: 779ms\n",
      "49:\tlearn: 0.3353722\ttotal: 258ms\tremaining: 773ms\n",
      "50:\tlearn: 0.3334148\ttotal: 263ms\tremaining: 769ms\n",
      "51:\tlearn: 0.3299847\ttotal: 269ms\tremaining: 766ms\n",
      "52:\tlearn: 0.3280110\ttotal: 277ms\tremaining: 768ms\n",
      "53:\tlearn: 0.3252961\ttotal: 282ms\tremaining: 764ms\n",
      "54:\tlearn: 0.3233621\ttotal: 288ms\tremaining: 758ms\n",
      "55:\tlearn: 0.3207172\ttotal: 292ms\tremaining: 752ms\n",
      "56:\tlearn: 0.3181249\ttotal: 298ms\tremaining: 748ms\n",
      "57:\tlearn: 0.3161254\ttotal: 304ms\tremaining: 744ms\n",
      "58:\tlearn: 0.3140861\ttotal: 309ms\tremaining: 738ms\n",
      "59:\tlearn: 0.3127501\ttotal: 314ms\tremaining: 732ms\n",
      "60:\tlearn: 0.3110175\ttotal: 320ms\tremaining: 728ms\n",
      "61:\tlearn: 0.3082383\ttotal: 325ms\tremaining: 724ms\n",
      "62:\tlearn: 0.3058924\ttotal: 330ms\tremaining: 717ms\n",
      "63:\tlearn: 0.3034503\ttotal: 335ms\tremaining: 712ms\n",
      "64:\tlearn: 0.3007585\ttotal: 341ms\tremaining: 707ms\n",
      "65:\tlearn: 0.2989303\ttotal: 345ms\tremaining: 701ms\n",
      "66:\tlearn: 0.2974695\ttotal: 352ms\tremaining: 699ms\n",
      "67:\tlearn: 0.2952234\ttotal: 359ms\tremaining: 697ms\n",
      "68:\tlearn: 0.2917672\ttotal: 365ms\tremaining: 693ms\n",
      "69:\tlearn: 0.2904015\ttotal: 368ms\tremaining: 684ms\n",
      "70:\tlearn: 0.2882877\ttotal: 373ms\tremaining: 678ms\n",
      "71:\tlearn: 0.2864031\ttotal: 378ms\tremaining: 672ms\n",
      "72:\tlearn: 0.2847410\ttotal: 383ms\tremaining: 667ms\n",
      "73:\tlearn: 0.2831286\ttotal: 388ms\tremaining: 661ms\n",
      "74:\tlearn: 0.2805571\ttotal: 394ms\tremaining: 656ms\n",
      "75:\tlearn: 0.2788848\ttotal: 400ms\tremaining: 653ms\n",
      "76:\tlearn: 0.2761907\ttotal: 405ms\tremaining: 647ms\n",
      "77:\tlearn: 0.2749625\ttotal: 410ms\tremaining: 641ms\n",
      "78:\tlearn: 0.2733984\ttotal: 415ms\tremaining: 635ms\n",
      "79:\tlearn: 0.2723307\ttotal: 419ms\tremaining: 629ms\n",
      "80:\tlearn: 0.2710214\ttotal: 424ms\tremaining: 623ms\n",
      "81:\tlearn: 0.2699080\ttotal: 429ms\tremaining: 618ms\n",
      "82:\tlearn: 0.2683451\ttotal: 434ms\tremaining: 612ms\n",
      "83:\tlearn: 0.2669487\ttotal: 439ms\tremaining: 606ms\n",
      "84:\tlearn: 0.2647716\ttotal: 444ms\tremaining: 601ms\n",
      "85:\tlearn: 0.2634680\ttotal: 450ms\tremaining: 597ms\n",
      "86:\tlearn: 0.2622303\ttotal: 456ms\tremaining: 592ms\n",
      "87:\tlearn: 0.2605533\ttotal: 462ms\tremaining: 588ms\n",
      "88:\tlearn: 0.2595138\ttotal: 467ms\tremaining: 583ms\n",
      "89:\tlearn: 0.2585753\ttotal: 473ms\tremaining: 578ms\n",
      "90:\tlearn: 0.2569455\ttotal: 479ms\tremaining: 573ms\n",
      "91:\tlearn: 0.2560611\ttotal: 485ms\tremaining: 569ms\n",
      "92:\tlearn: 0.2544070\ttotal: 491ms\tremaining: 564ms\n",
      "93:\tlearn: 0.2517868\ttotal: 497ms\tremaining: 560ms\n",
      "94:\tlearn: 0.2507386\ttotal: 503ms\tremaining: 556ms\n",
      "95:\tlearn: 0.2495004\ttotal: 533ms\tremaining: 578ms\n",
      "96:\tlearn: 0.2474200\ttotal: 540ms\tremaining: 573ms\n",
      "97:\tlearn: 0.2461638\ttotal: 547ms\tremaining: 570ms\n",
      "98:\tlearn: 0.2450345\ttotal: 553ms\tremaining: 564ms\n",
      "99:\tlearn: 0.2444111\ttotal: 559ms\tremaining: 559ms\n",
      "100:\tlearn: 0.2437353\ttotal: 567ms\tremaining: 556ms\n",
      "101:\tlearn: 0.2431478\ttotal: 572ms\tremaining: 550ms\n",
      "102:\tlearn: 0.2418609\ttotal: 579ms\tremaining: 545ms\n",
      "103:\tlearn: 0.2410050\ttotal: 585ms\tremaining: 540ms\n",
      "104:\tlearn: 0.2404146\ttotal: 591ms\tremaining: 534ms\n",
      "105:\tlearn: 0.2383649\ttotal: 597ms\tremaining: 529ms\n",
      "106:\tlearn: 0.2375381\ttotal: 602ms\tremaining: 523ms\n",
      "107:\tlearn: 0.2356240\ttotal: 607ms\tremaining: 517ms\n",
      "108:\tlearn: 0.2348428\ttotal: 612ms\tremaining: 511ms\n",
      "109:\tlearn: 0.2339522\ttotal: 616ms\tremaining: 504ms\n",
      "110:\tlearn: 0.2323986\ttotal: 621ms\tremaining: 498ms\n",
      "111:\tlearn: 0.2311732\ttotal: 626ms\tremaining: 492ms\n",
      "112:\tlearn: 0.2300730\ttotal: 631ms\tremaining: 486ms\n",
      "113:\tlearn: 0.2292724\ttotal: 636ms\tremaining: 480ms\n",
      "114:\tlearn: 0.2286512\ttotal: 642ms\tremaining: 474ms\n",
      "115:\tlearn: 0.2267089\ttotal: 646ms\tremaining: 468ms\n",
      "116:\tlearn: 0.2256888\ttotal: 651ms\tremaining: 462ms\n",
      "117:\tlearn: 0.2250617\ttotal: 657ms\tremaining: 456ms\n",
      "118:\tlearn: 0.2242462\ttotal: 662ms\tremaining: 451ms\n",
      "119:\tlearn: 0.2233604\ttotal: 668ms\tremaining: 445ms\n",
      "120:\tlearn: 0.2222975\ttotal: 673ms\tremaining: 439ms\n",
      "121:\tlearn: 0.2217859\ttotal: 678ms\tremaining: 434ms\n",
      "122:\tlearn: 0.2206889\ttotal: 684ms\tremaining: 428ms\n",
      "123:\tlearn: 0.2184409\ttotal: 690ms\tremaining: 423ms\n",
      "124:\tlearn: 0.2175196\ttotal: 695ms\tremaining: 417ms\n",
      "125:\tlearn: 0.2156052\ttotal: 700ms\tremaining: 411ms\n",
      "126:\tlearn: 0.2149540\ttotal: 706ms\tremaining: 406ms\n",
      "127:\tlearn: 0.2133339\ttotal: 723ms\tremaining: 406ms\n",
      "128:\tlearn: 0.2120956\ttotal: 728ms\tremaining: 401ms\n",
      "129:\tlearn: 0.2102807\ttotal: 733ms\tremaining: 395ms\n",
      "130:\tlearn: 0.2091413\ttotal: 739ms\tremaining: 389ms\n",
      "131:\tlearn: 0.2083858\ttotal: 745ms\tremaining: 384ms\n",
      "132:\tlearn: 0.2082139\ttotal: 746ms\tremaining: 376ms\n",
      "133:\tlearn: 0.2075806\ttotal: 752ms\tremaining: 370ms\n",
      "134:\tlearn: 0.2065749\ttotal: 759ms\tremaining: 365ms\n",
      "135:\tlearn: 0.2056529\ttotal: 764ms\tremaining: 360ms\n",
      "136:\tlearn: 0.2050428\ttotal: 769ms\tremaining: 354ms\n",
      "137:\tlearn: 0.2044387\ttotal: 774ms\tremaining: 348ms\n",
      "138:\tlearn: 0.2039460\ttotal: 780ms\tremaining: 342ms\n",
      "139:\tlearn: 0.2023206\ttotal: 785ms\tremaining: 337ms\n",
      "140:\tlearn: 0.2013544\ttotal: 790ms\tremaining: 331ms\n",
      "141:\tlearn: 0.2001691\ttotal: 795ms\tremaining: 325ms\n",
      "142:\tlearn: 0.1991756\ttotal: 800ms\tremaining: 319ms\n",
      "143:\tlearn: 0.1982775\ttotal: 805ms\tremaining: 313ms\n",
      "144:\tlearn: 0.1972000\ttotal: 810ms\tremaining: 307ms\n",
      "145:\tlearn: 0.1954370\ttotal: 817ms\tremaining: 302ms\n",
      "146:\tlearn: 0.1943625\ttotal: 822ms\tremaining: 297ms\n",
      "147:\tlearn: 0.1933603\ttotal: 828ms\tremaining: 291ms\n",
      "148:\tlearn: 0.1923451\ttotal: 834ms\tremaining: 285ms\n",
      "149:\tlearn: 0.1909043\ttotal: 840ms\tremaining: 280ms\n",
      "150:\tlearn: 0.1900798\ttotal: 847ms\tremaining: 275ms\n",
      "151:\tlearn: 0.1896075\ttotal: 853ms\tremaining: 269ms\n",
      "152:\tlearn: 0.1886362\ttotal: 858ms\tremaining: 264ms\n",
      "153:\tlearn: 0.1879743\ttotal: 864ms\tremaining: 258ms\n",
      "154:\tlearn: 0.1872903\ttotal: 868ms\tremaining: 252ms\n",
      "155:\tlearn: 0.1858487\ttotal: 873ms\tremaining: 246ms\n",
      "156:\tlearn: 0.1847557\ttotal: 879ms\tremaining: 241ms\n",
      "157:\tlearn: 0.1834748\ttotal: 885ms\tremaining: 235ms\n",
      "158:\tlearn: 0.1827393\ttotal: 892ms\tremaining: 230ms\n",
      "159:\tlearn: 0.1820029\ttotal: 898ms\tremaining: 225ms\n",
      "160:\tlearn: 0.1814870\ttotal: 904ms\tremaining: 219ms\n",
      "161:\tlearn: 0.1807143\ttotal: 909ms\tremaining: 213ms\n",
      "162:\tlearn: 0.1788792\ttotal: 916ms\tremaining: 208ms\n",
      "163:\tlearn: 0.1781223\ttotal: 923ms\tremaining: 203ms\n",
      "164:\tlearn: 0.1778573\ttotal: 929ms\tremaining: 197ms\n",
      "165:\tlearn: 0.1774994\ttotal: 934ms\tremaining: 191ms\n",
      "166:\tlearn: 0.1766472\ttotal: 940ms\tremaining: 186ms\n",
      "167:\tlearn: 0.1753854\ttotal: 945ms\tremaining: 180ms\n",
      "168:\tlearn: 0.1740620\ttotal: 950ms\tremaining: 174ms\n",
      "169:\tlearn: 0.1731421\ttotal: 955ms\tremaining: 169ms\n",
      "170:\tlearn: 0.1723542\ttotal: 960ms\tremaining: 163ms\n",
      "171:\tlearn: 0.1716360\ttotal: 965ms\tremaining: 157ms\n",
      "172:\tlearn: 0.1705085\ttotal: 971ms\tremaining: 151ms\n",
      "173:\tlearn: 0.1694723\ttotal: 979ms\tremaining: 146ms\n",
      "174:\tlearn: 0.1688626\ttotal: 984ms\tremaining: 141ms\n",
      "175:\tlearn: 0.1682950\ttotal: 990ms\tremaining: 135ms\n",
      "176:\tlearn: 0.1674069\ttotal: 995ms\tremaining: 129ms\n",
      "177:\tlearn: 0.1672303\ttotal: 1s\tremaining: 124ms\n",
      "178:\tlearn: 0.1666822\ttotal: 1s\tremaining: 118ms\n",
      "179:\tlearn: 0.1660508\ttotal: 1.01s\tremaining: 112ms\n",
      "180:\tlearn: 0.1653085\ttotal: 1.02s\tremaining: 107ms\n",
      "181:\tlearn: 0.1643963\ttotal: 1.02s\tremaining: 101ms\n",
      "182:\tlearn: 0.1635574\ttotal: 1.03s\tremaining: 95.8ms\n",
      "183:\tlearn: 0.1627505\ttotal: 1.04s\tremaining: 90.1ms\n",
      "184:\tlearn: 0.1620530\ttotal: 1.04s\tremaining: 84.5ms\n",
      "185:\tlearn: 0.1616087\ttotal: 1.05s\tremaining: 78.8ms\n",
      "186:\tlearn: 0.1606996\ttotal: 1.05s\tremaining: 73.1ms\n",
      "187:\tlearn: 0.1597629\ttotal: 1.06s\tremaining: 67.4ms\n",
      "188:\tlearn: 0.1590408\ttotal: 1.06s\tremaining: 61.8ms\n",
      "189:\tlearn: 0.1586038\ttotal: 1.07s\tremaining: 56.1ms\n",
      "190:\tlearn: 0.1578480\ttotal: 1.07s\tremaining: 50.5ms\n",
      "191:\tlearn: 0.1571188\ttotal: 1.08s\tremaining: 44.9ms\n",
      "192:\tlearn: 0.1561423\ttotal: 1.08s\tremaining: 39.2ms\n",
      "193:\tlearn: 0.1555195\ttotal: 1.09s\tremaining: 33.6ms\n",
      "194:\tlearn: 0.1541191\ttotal: 1.09s\tremaining: 28ms\n",
      "195:\tlearn: 0.1528584\ttotal: 1.1s\tremaining: 22.4ms\n",
      "196:\tlearn: 0.1519591\ttotal: 1.1s\tremaining: 16.8ms\n",
      "197:\tlearn: 0.1513487\ttotal: 1.11s\tremaining: 11.2ms\n",
      "198:\tlearn: 0.1508775\ttotal: 1.12s\tremaining: 5.62ms\n",
      "199:\tlearn: 0.1496718\ttotal: 1.12s\tremaining: 0us\n"
     ]
    }
   ],
   "source": [
    "catb_tuned = CatBoostClassifier(depth=8,iterations=200,learning_rate=0.03).fit(X_train,y_train)"
   ]
  },
  {
   "cell_type": "code",
   "execution_count": 158,
   "metadata": {},
   "outputs": [
    {
     "data": {
      "text/plain": [
       "0.7489177489177489"
      ]
     },
     "execution_count": 158,
     "metadata": {},
     "output_type": "execute_result"
    }
   ],
   "source": [
    "y_pred = catb_tuned.predict(X_test)\n",
    "accuracy_score(y_test,y_pred)"
   ]
  },
  {
   "cell_type": "code",
   "execution_count": 159,
   "metadata": {},
   "outputs": [
    {
     "data": {
      "image/png": "[encoded data removed]",
      "text/plain": [
       "<Figure size 432x288 with 1 Axes>"
      ]
     },
     "metadata": {
      "needs_background": "light"
     },
     "output_type": "display_data"
    }
   ],
   "source": [
    "#değişken önem düzeyleri\n",
    "\n",
    "Importance = pd.DataFrame({\"Importance\":catb_tuned.feature_importances_*100},index=X_train.columns)\n",
    "Importance.sort_values(by=\"Importance\",axis=0,ascending=True).plot(kind=\"barh\");\n",
    "plt.xlabel(\"Variable importance\")\n",
    "plt.gca().legend_=None"
   ]
  }
 ],
 "metadata": {
  "kernelspec": {
   "display_name": "Python 3",
   "language": "python",
   "name": "python3"
  },
  "language_info": {
   "codemirror_mode": {
    "name": "ipython",
    "version": 3
   },
   "file_extension": ".py",
   "mimetype": "text/x-python",
   "name": "python",
   "nbconvert_exporter": "python",
   "pygments_lexer": "ipython3",
   "version": "3.10.9"
  }
 },
 "nbformat": 4,
 "nbformat_minor": 4
}
