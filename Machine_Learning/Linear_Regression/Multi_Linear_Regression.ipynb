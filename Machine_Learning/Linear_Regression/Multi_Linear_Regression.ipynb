{
 "cells": [
  {
   "cell_type": "markdown",
   "metadata": {},
   "source": [
    "# Multi Linear Regression - Sales Prediction Example"
   ]
  },
  {
   "cell_type": "code",
   "execution_count": 1,
   "metadata": {},
   "outputs": [],
   "source": [
    "import numpy as np\n",
    "import pandas as pd\n",
    "import matplotlib.pyplot as plt\n",
    "import seaborn as sns\n",
    "from sklearn.linear_model import LinearRegression\n",
    "from sklearn.metrics import mean_squared_error\n",
    "from sklearn.model_selection import train_test_split, cross_val_score"
   ]
  },
  {
   "cell_type": "markdown",
   "metadata": {},
   "source": [
    "* Set Option"
   ]
  },
  {
   "cell_type": "code",
   "execution_count": 2,
   "metadata": {},
   "outputs": [],
   "source": [
    "pd.set_option('display.max_columns', None) # Show All Columns\n",
    "pd.set_option('display.max_rows', None) # Show All Rows\n",
    "pd.set_option('display.float_format', lambda x: '%.3f' % x) # After Comma 3 Digit\n",
    "pd.set_option('display.width', 500) # Show 500 Width"
   ]
  },
  {
   "cell_type": "markdown",
   "metadata": {},
   "source": [
    "* Load Data"
   ]
  },
  {
   "cell_type": "code",
   "execution_count": 3,
   "metadata": {},
   "outputs": [],
   "source": [
    "df = pd.read_csv(\"data/advertising.csv\")"
   ]
  },
  {
   "cell_type": "markdown",
   "metadata": {},
   "source": [
    "* Discover Data"
   ]
  },
  {
   "cell_type": "code",
   "execution_count": 4,
   "metadata": {},
   "outputs": [
    {
     "data": {
      "text/plain": [
       "(200, 4)"
      ]
     },
     "execution_count": 4,
     "metadata": {},
     "output_type": "execute_result"
    }
   ],
   "source": [
    "df.shape"
   ]
  },
  {
   "cell_type": "code",
   "execution_count": 5,
   "metadata": {},
   "outputs": [
    {
     "data": {
      "text/html": [
       "<div>\n",
       "<style scoped>\n",
       "    .dataframe tbody tr th:only-of-type {\n",
       "        vertical-align: middle;\n",
       "    }\n",
       "\n",
       "    .dataframe tbody tr th {\n",
       "        vertical-align: top;\n",
       "    }\n",
       "\n",
       "    .dataframe thead th {\n",
       "        text-align: right;\n",
       "    }\n",
       "</style>\n",
       "<table border=\"1\" class=\"dataframe\">\n",
       "  <thead>\n",
       "    <tr style=\"text-align: right;\">\n",
       "      <th></th>\n",
       "      <th>TV</th>\n",
       "      <th>radio</th>\n",
       "      <th>newspaper</th>\n",
       "      <th>sales</th>\n",
       "    </tr>\n",
       "  </thead>\n",
       "  <tbody>\n",
       "    <tr>\n",
       "      <th>0</th>\n",
       "      <td>230.100</td>\n",
       "      <td>37.800</td>\n",
       "      <td>69.200</td>\n",
       "      <td>22.100</td>\n",
       "    </tr>\n",
       "    <tr>\n",
       "      <th>1</th>\n",
       "      <td>44.500</td>\n",
       "      <td>39.300</td>\n",
       "      <td>45.100</td>\n",
       "      <td>10.400</td>\n",
       "    </tr>\n",
       "    <tr>\n",
       "      <th>2</th>\n",
       "      <td>17.200</td>\n",
       "      <td>45.900</td>\n",
       "      <td>69.300</td>\n",
       "      <td>9.300</td>\n",
       "    </tr>\n",
       "    <tr>\n",
       "      <th>3</th>\n",
       "      <td>151.500</td>\n",
       "      <td>41.300</td>\n",
       "      <td>58.500</td>\n",
       "      <td>18.500</td>\n",
       "    </tr>\n",
       "    <tr>\n",
       "      <th>4</th>\n",
       "      <td>180.800</td>\n",
       "      <td>10.800</td>\n",
       "      <td>58.400</td>\n",
       "      <td>12.900</td>\n",
       "    </tr>\n",
       "  </tbody>\n",
       "</table>\n",
       "</div>"
      ],
      "text/plain": [
       "       TV  radio  newspaper  sales\n",
       "0 230.100 37.800     69.200 22.100\n",
       "1  44.500 39.300     45.100 10.400\n",
       "2  17.200 45.900     69.300  9.300\n",
       "3 151.500 41.300     58.500 18.500\n",
       "4 180.800 10.800     58.400 12.900"
      ]
     },
     "execution_count": 5,
     "metadata": {},
     "output_type": "execute_result"
    }
   ],
   "source": [
    "df.head()"
   ]
  },
  {
   "cell_type": "code",
   "execution_count": 6,
   "metadata": {},
   "outputs": [
    {
     "data": {
      "text/plain": [
       "TV           float64\n",
       "radio        float64\n",
       "newspaper    float64\n",
       "sales        float64\n",
       "dtype: object"
      ]
     },
     "execution_count": 6,
     "metadata": {},
     "output_type": "execute_result"
    }
   ],
   "source": [
    "df.dtypes"
   ]
  },
  {
   "cell_type": "code",
   "execution_count": 7,
   "metadata": {},
   "outputs": [
    {
     "data": {
      "text/plain": [
       "TV           190\n",
       "newspaper    172\n",
       "radio        167\n",
       "sales        121\n",
       "dtype: int64"
      ]
     },
     "execution_count": 7,
     "metadata": {},
     "output_type": "execute_result"
    }
   ],
   "source": [
    "df.nunique().sort_values(ascending=False)"
   ]
  },
  {
   "cell_type": "code",
   "execution_count": 8,
   "metadata": {},
   "outputs": [
    {
     "data": {
      "text/plain": [
       "sales\n",
       "9.700     5\n",
       "11.700    4\n",
       "12.900    4\n",
       "15.900    4\n",
       "20.700    3\n",
       "25.400    3\n",
       "15.500    3\n",
       "18.000    3\n",
       "11.900    3\n",
       "8.700     3\n",
       "9.500     3\n",
       "11.600    3\n",
       "10.600    3\n",
       "12.200    3\n",
       "13.200    3\n",
       "11.800    3\n",
       "10.100    3\n",
       "13.400    3\n",
       "11.400    2\n",
       "22.600    2\n",
       "20.200    2\n",
       "23.800    2\n",
       "10.300    2\n",
       "14.800    2\n",
       "10.900    2\n",
       "14.900    2\n",
       "10.800    2\n",
       "10.400    2\n",
       "17.100    2\n",
       "11.000    2\n",
       "19.600    2\n",
       "5.300     2\n",
       "15.200    2\n",
       "6.600     2\n",
       "7.300     2\n",
       "11.500    2\n",
       "12.600    2\n",
       "8.800     2\n",
       "19.200    2\n",
       "16.600    2\n",
       "10.500    2\n",
       "9.300     2\n",
       "7.200     2\n",
       "17.400    2\n",
       "17.300    2\n",
       "19.000    2\n",
       "12.500    2\n",
       "11.300    2\n",
       "12.000    2\n",
       "15.000    2\n",
       "18.900    2\n",
       "14.600    2\n",
       "7.600     2\n",
       "14.700    2\n",
       "12.800    2\n",
       "9.600     2\n",
       "15.600    1\n",
       "6.700     1\n",
       "13.300    1\n",
       "7.000     1\n",
       "14.500    1\n",
       "9.900     1\n",
       "9.400     1\n",
       "24.700    1\n",
       "8.000     1\n",
       "5.900     1\n",
       "21.800    1\n",
       "14.100    1\n",
       "19.700    1\n",
       "17.600    1\n",
       "1.600     1\n",
       "16.100    1\n",
       "12.700    1\n",
       "5.700     1\n",
       "26.200    1\n",
       "14.400    1\n",
       "8.400     1\n",
       "27.000    1\n",
       "20.800    1\n",
       "15.300    1\n",
       "3.200     1\n",
       "20.100    1\n",
       "22.100    1\n",
       "12.400    1\n",
       "19.800    1\n",
       "8.100     1\n",
       "5.500     1\n",
       "23.700    1\n",
       "21.200    1\n",
       "10.700    1\n",
       "23.200    1\n",
       "8.500     1\n",
       "21.500    1\n",
       "21.400    1\n",
       "5.600     1\n",
       "24.400    1\n",
       "22.400    1\n",
       "9.200     1\n",
       "8.600     1\n",
       "4.800     1\n",
       "18.500    1\n",
       "18.400    1\n",
       "24.200    1\n",
       "17.200    1\n",
       "15.700    1\n",
       "16.900    1\n",
       "22.200    1\n",
       "19.400    1\n",
       "11.200    1\n",
       "16.700    1\n",
       "16.000    1\n",
       "21.700    1\n",
       "13.600    1\n",
       "12.300    1\n",
       "14.200    1\n",
       "6.900     1\n",
       "17.000    1\n",
       "18.300    1\n",
       "22.300    1\n",
       "14.000    1\n",
       "25.500    1\n",
       "Name: count, dtype: int64"
      ]
     },
     "execution_count": 8,
     "metadata": {},
     "output_type": "execute_result"
    }
   ],
   "source": [
    "df[\"sales\"].value_counts()"
   ]
  },
  {
   "cell_type": "code",
   "execution_count": 9,
   "metadata": {},
   "outputs": [
    {
     "data": {
      "text/plain": [
       "TV           0\n",
       "radio        0\n",
       "newspaper    0\n",
       "sales        0\n",
       "dtype: int64"
      ]
     },
     "execution_count": 9,
     "metadata": {},
     "output_type": "execute_result"
    }
   ],
   "source": [
    "df.isnull().sum().sort_values(ascending=False)"
   ]
  },
  {
   "cell_type": "code",
   "execution_count": 10,
   "metadata": {},
   "outputs": [
    {
     "data": {
      "text/html": [
       "<div>\n",
       "<style scoped>\n",
       "    .dataframe tbody tr th:only-of-type {\n",
       "        vertical-align: middle;\n",
       "    }\n",
       "\n",
       "    .dataframe tbody tr th {\n",
       "        vertical-align: top;\n",
       "    }\n",
       "\n",
       "    .dataframe thead th {\n",
       "        text-align: right;\n",
       "    }\n",
       "</style>\n",
       "<table border=\"1\" class=\"dataframe\">\n",
       "  <thead>\n",
       "    <tr style=\"text-align: right;\">\n",
       "      <th></th>\n",
       "      <th>count</th>\n",
       "      <th>mean</th>\n",
       "      <th>std</th>\n",
       "      <th>min</th>\n",
       "      <th>25%</th>\n",
       "      <th>50%</th>\n",
       "      <th>75%</th>\n",
       "      <th>max</th>\n",
       "    </tr>\n",
       "  </thead>\n",
       "  <tbody>\n",
       "    <tr>\n",
       "      <th>TV</th>\n",
       "      <td>200.000</td>\n",
       "      <td>147.042</td>\n",
       "      <td>85.854</td>\n",
       "      <td>0.700</td>\n",
       "      <td>74.375</td>\n",
       "      <td>149.750</td>\n",
       "      <td>218.825</td>\n",
       "      <td>296.400</td>\n",
       "    </tr>\n",
       "    <tr>\n",
       "      <th>radio</th>\n",
       "      <td>200.000</td>\n",
       "      <td>23.264</td>\n",
       "      <td>14.847</td>\n",
       "      <td>0.000</td>\n",
       "      <td>9.975</td>\n",
       "      <td>22.900</td>\n",
       "      <td>36.525</td>\n",
       "      <td>49.600</td>\n",
       "    </tr>\n",
       "    <tr>\n",
       "      <th>newspaper</th>\n",
       "      <td>200.000</td>\n",
       "      <td>30.554</td>\n",
       "      <td>21.779</td>\n",
       "      <td>0.300</td>\n",
       "      <td>12.750</td>\n",
       "      <td>25.750</td>\n",
       "      <td>45.100</td>\n",
       "      <td>114.000</td>\n",
       "    </tr>\n",
       "    <tr>\n",
       "      <th>sales</th>\n",
       "      <td>200.000</td>\n",
       "      <td>14.023</td>\n",
       "      <td>5.217</td>\n",
       "      <td>1.600</td>\n",
       "      <td>10.375</td>\n",
       "      <td>12.900</td>\n",
       "      <td>17.400</td>\n",
       "      <td>27.000</td>\n",
       "    </tr>\n",
       "  </tbody>\n",
       "</table>\n",
       "</div>"
      ],
      "text/plain": [
       "            count    mean    std   min    25%     50%     75%     max\n",
       "TV        200.000 147.042 85.854 0.700 74.375 149.750 218.825 296.400\n",
       "radio     200.000  23.264 14.847 0.000  9.975  22.900  36.525  49.600\n",
       "newspaper 200.000  30.554 21.779 0.300 12.750  25.750  45.100 114.000\n",
       "sales     200.000  14.023  5.217 1.600 10.375  12.900  17.400  27.000"
      ]
     },
     "execution_count": 10,
     "metadata": {},
     "output_type": "execute_result"
    }
   ],
   "source": [
    "df.describe().T"
   ]
  },
  {
   "cell_type": "code",
   "execution_count": 11,
   "metadata": {},
   "outputs": [
    {
     "data": {
      "text/html": [
       "<div>\n",
       "<style scoped>\n",
       "    .dataframe tbody tr th:only-of-type {\n",
       "        vertical-align: middle;\n",
       "    }\n",
       "\n",
       "    .dataframe tbody tr th {\n",
       "        vertical-align: top;\n",
       "    }\n",
       "\n",
       "    .dataframe thead th {\n",
       "        text-align: right;\n",
       "    }\n",
       "</style>\n",
       "<table border=\"1\" class=\"dataframe\">\n",
       "  <thead>\n",
       "    <tr style=\"text-align: right;\">\n",
       "      <th></th>\n",
       "      <th>0.000</th>\n",
       "      <th>0.050</th>\n",
       "      <th>0.500</th>\n",
       "      <th>0.900</th>\n",
       "      <th>0.990</th>\n",
       "      <th>1.000</th>\n",
       "    </tr>\n",
       "  </thead>\n",
       "  <tbody>\n",
       "    <tr>\n",
       "      <th>TV</th>\n",
       "      <td>0.700</td>\n",
       "      <td>13.195</td>\n",
       "      <td>149.750</td>\n",
       "      <td>261.440</td>\n",
       "      <td>292.907</td>\n",
       "      <td>296.400</td>\n",
       "    </tr>\n",
       "    <tr>\n",
       "      <th>radio</th>\n",
       "      <td>0.000</td>\n",
       "      <td>1.995</td>\n",
       "      <td>22.900</td>\n",
       "      <td>43.520</td>\n",
       "      <td>49.400</td>\n",
       "      <td>49.600</td>\n",
       "    </tr>\n",
       "    <tr>\n",
       "      <th>newspaper</th>\n",
       "      <td>0.300</td>\n",
       "      <td>3.600</td>\n",
       "      <td>25.750</td>\n",
       "      <td>59.070</td>\n",
       "      <td>89.515</td>\n",
       "      <td>114.000</td>\n",
       "    </tr>\n",
       "    <tr>\n",
       "      <th>sales</th>\n",
       "      <td>1.600</td>\n",
       "      <td>6.600</td>\n",
       "      <td>12.900</td>\n",
       "      <td>21.710</td>\n",
       "      <td>25.507</td>\n",
       "      <td>27.000</td>\n",
       "    </tr>\n",
       "  </tbody>\n",
       "</table>\n",
       "</div>"
      ],
      "text/plain": [
       "           0.000  0.050   0.500   0.900   0.990   1.000\n",
       "TV         0.700 13.195 149.750 261.440 292.907 296.400\n",
       "radio      0.000  1.995  22.900  43.520  49.400  49.600\n",
       "newspaper  0.300  3.600  25.750  59.070  89.515 114.000\n",
       "sales      1.600  6.600  12.900  21.710  25.507  27.000"
      ]
     },
     "execution_count": 11,
     "metadata": {},
     "output_type": "execute_result"
    }
   ],
   "source": [
    "df.quantile([0, 0.05, 0.50, 0.90, 0.99, 1]).T"
   ]
  },
  {
   "cell_type": "code",
   "execution_count": 12,
   "metadata": {},
   "outputs": [
    {
     "data": {
      "text/plain": [
       "TV         TV          1.000\n",
       "radio      radio       1.000\n",
       "newspaper  newspaper   1.000\n",
       "radio      newspaper   0.354\n",
       "newspaper  radio       0.354\n",
       "dtype: float64"
      ]
     },
     "execution_count": 12,
     "metadata": {},
     "output_type": "execute_result"
    }
   ],
   "source": [
    "corr = df.drop(\"sales\",axis=1).corr().abs()\n",
    "corr_values = corr.unstack()\n",
    "corr_values_sort = corr_values.sort_values(kind='quicksort',ascending=False)\n",
    "corr_values_sort[corr_values_sort>0.1]"
   ]
  },
  {
   "cell_type": "markdown",
   "metadata": {},
   "source": [
    "* Split Data For Basic Linear Regression"
   ]
  },
  {
   "cell_type": "code",
   "execution_count": 13,
   "metadata": {},
   "outputs": [],
   "source": [
    "X = df.drop('sales', axis=1)\n",
    "y = df[[\"sales\"]]\n",
    "\n",
    "X_train, X_test, y_train, y_test = train_test_split(X, y, test_size=0.20, random_state=1)"
   ]
  },
  {
   "cell_type": "markdown",
   "metadata": {},
   "source": [
    "* Model Train For Basic Linear Regression"
   ]
  },
  {
   "cell_type": "code",
   "execution_count": 14,
   "metadata": {},
   "outputs": [
    {
     "name": "stdout",
     "output_type": "stream",
     "text": [
      "Bias Value:  [2.90794702]\n",
      "Coefficients Value:  [[0.0468431  0.17854434 0.00258619]]\n"
     ]
    }
   ],
   "source": [
    "reg_model = LinearRegression().fit(X_train, y_train)\n",
    "\n",
    "# (b - bias)\n",
    "print(\"Bias Value: \",reg_model.intercept_)\n",
    "\n",
    "# coefficients (w - weights)\n",
    "print(\"Coefficients Value: \",reg_model.coef_)"
   ]
  },
  {
   "cell_type": "markdown",
   "metadata": {},
   "source": [
    "* Prediction"
   ]
  },
  {
   "cell_type": "code",
   "execution_count": 15,
   "metadata": {},
   "outputs": [
    {
     "name": "stderr",
     "output_type": "stream",
     "text": [
      "c:\\Users\\enes_\\AppData\\Local\\Programs\\Python\\Python310\\lib\\site-packages\\sklearn\\base.py:464: UserWarning: X does not have valid feature names, but LinearRegression was fitted with feature names\n",
      "  warnings.warn(\n"
     ]
    },
    {
     "data": {
      "text/plain": [
       "array([[6.202131]])"
      ]
     },
     "execution_count": 15,
     "metadata": {},
     "output_type": "execute_result"
    }
   ],
   "source": [
    "# Example\n",
    "\n",
    "# TV: 30\n",
    "# radio: 10\n",
    "# newspaper: 40\n",
    "\n",
    "# 2.90 - Bias\n",
    "# 0.0468431 , 0.17854434, 0.00258619 -> weights\n",
    "\n",
    "# Sales = 2.90  + TV * 0.04 + radio * 0.17 + newspaper * 0.002\n",
    "\n",
    "2.90794702 + 30 * 0.0468431 + 10 * 0.17854434 + 40 * 0.00258619\n",
    "\n",
    "# Prediction with our example values\n",
    "yeni_veri = [[30], [10], [40]]\n",
    "yeni_veri = pd.DataFrame(yeni_veri).T\n",
    "\n",
    "reg_model.predict(yeni_veri)"
   ]
  },
  {
   "cell_type": "markdown",
   "metadata": {},
   "source": [
    "* Model Success"
   ]
  },
  {
   "cell_type": "code",
   "execution_count": 17,
   "metadata": {},
   "outputs": [
    {
     "data": {
      "text/plain": [
       "1.736902590147092"
      ]
     },
     "execution_count": 17,
     "metadata": {},
     "output_type": "execute_result"
    }
   ],
   "source": [
    "# Train RMSE\n",
    "y_pred = reg_model.predict(X_train)\n",
    "np.sqrt(mean_squared_error(y_train, y_pred))\n",
    "# 1.73"
   ]
  },
  {
   "cell_type": "code",
   "execution_count": 18,
   "metadata": {},
   "outputs": [
    {
     "data": {
      "text/plain": [
       "0.8959372632325174"
      ]
     },
     "execution_count": 18,
     "metadata": {},
     "output_type": "execute_result"
    }
   ],
   "source": [
    "# TRAIN RKARE\n",
    "reg_model.score(X_train, y_train)"
   ]
  },
  {
   "cell_type": "code",
   "execution_count": 19,
   "metadata": {},
   "outputs": [
    {
     "data": {
      "text/plain": [
       "1.4113417558581587"
      ]
     },
     "execution_count": 19,
     "metadata": {},
     "output_type": "execute_result"
    }
   ],
   "source": [
    "# Test RMSE\n",
    "y_pred = reg_model.predict(X_test)\n",
    "np.sqrt(mean_squared_error(y_test, y_pred))\n",
    "# 1.41"
   ]
  },
  {
   "cell_type": "code",
   "execution_count": 20,
   "metadata": {},
   "outputs": [
    {
     "data": {
      "text/plain": [
       "0.8927605914615384"
      ]
     },
     "execution_count": 20,
     "metadata": {},
     "output_type": "execute_result"
    }
   ],
   "source": [
    "# Test RKARE\n",
    "# 0.89 : This means that our independent variables can explain 90% of our dependent variable.\n",
    "reg_model.score(X_test, y_test)"
   ]
  },
  {
   "cell_type": "code",
   "execution_count": 21,
   "metadata": {},
   "outputs": [
    {
     "data": {
      "text/plain": [
       "1.6913531708051797"
      ]
     },
     "execution_count": 21,
     "metadata": {},
     "output_type": "execute_result"
    }
   ],
   "source": [
    "# 10 Fold CV RMSE\n",
    "np.mean(np.sqrt(-cross_val_score(reg_model,\n",
    "                                 X,\n",
    "                                 y,\n",
    "                                 cv=10,\n",
    "                                 scoring=\"neg_mean_squared_error\")))\n",
    "# 1.69"
   ]
  },
  {
   "cell_type": "code",
   "execution_count": 22,
   "metadata": {},
   "outputs": [
    {
     "data": {
      "text/plain": [
       "1.7175247278732084"
      ]
     },
     "execution_count": 22,
     "metadata": {},
     "output_type": "execute_result"
    }
   ],
   "source": [
    "# 5 Fold CV RMSE\n",
    "np.mean(np.sqrt(-cross_val_score(reg_model,\n",
    "                                 X,\n",
    "                                 y,\n",
    "                                 cv=5,\n",
    "                                 scoring=\"neg_mean_squared_error\")))\n",
    "# 1.71\n"
   ]
  }
 ],
 "metadata": {
  "kernelspec": {
   "display_name": "Python 3",
   "language": "python",
   "name": "python3"
  },
  "language_info": {
   "codemirror_mode": {
    "name": "ipython",
    "version": 3
   },
   "file_extension": ".py",
   "mimetype": "text/x-python",
   "name": "python",
   "nbconvert_exporter": "python",
   "pygments_lexer": "ipython3",
   "version": "3.10.9"
  },
  "orig_nbformat": 4
 },
 "nbformat": 4,
 "nbformat_minor": 2
}
